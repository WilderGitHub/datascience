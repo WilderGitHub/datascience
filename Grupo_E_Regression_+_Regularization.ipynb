{
  "nbformat": 4,
  "nbformat_minor": 0,
  "metadata": {
    "colab": {
      "provenance": [],
      "include_colab_link": true
    },
    "kernelspec": {
      "name": "python3",
      "display_name": "Python 3"
    },
    "language_info": {
      "name": "python"
    }
  },
  "cells": [
    {
      "cell_type": "markdown",
      "metadata": {
        "id": "view-in-github",
        "colab_type": "text"
      },
      "source": [
        "<a href=\"https://colab.research.google.com/github/WilderGitHub/datascience/blob/main/Grupo_E_Regression_%2B_Regularization.ipynb\" target=\"_parent\"><img src=\"https://colab.research.google.com/assets/colab-badge.svg\" alt=\"Open In Colab\"/></a>"
      ]
    },
    {
      "cell_type": "markdown",
      "source": [
        "# **MÉTODOS DE REGRESIÓN Y REGULARIZACIÓN**\n",
        "\n",
        "### **INTEGRANTES DEL GRUPO**\n",
        "*   Wilder Serdan\n",
        "*   Oscar Ramirez\n",
        "*   Ruth Villalobos\n",
        "\n",
        "### **CONTENIDO**\n",
        "#### **Regression**\n",
        "1. Ordinary Least Square Regression\n",
        "2. Linear Regression\n",
        "3. Logistic Regression\n",
        "4. Stepwise Regression\n",
        "5. MARS Algorithms\n",
        "6. Locally Stimated Scatterplot Smotthing\n",
        "\n",
        "#### **Regularization**\n",
        "7. LASSO\n",
        "8. Ridge Regression\n",
        "9. Elastic Net\n",
        "10. LARS\n"
      ],
      "metadata": {
        "id": "eYxEP_Eh56LP"
      }
    },
    {
      "cell_type": "markdown",
      "source": [
        "---\n",
        "---\n",
        "---"
      ],
      "metadata": {
        "id": "6Y46ALEl9FjG"
      }
    },
    {
      "cell_type": "markdown",
      "source": [
        "# **Regression**"
      ],
      "metadata": {
        "id": "zKrXam_982l_"
      }
    },
    {
      "cell_type": "markdown",
      "source": [
        "# **1. Ordinary Least Square Regression**"
      ],
      "metadata": {
        "id": "XIZZ4qOR8Jp0"
      }
    },
    {
      "cell_type": "markdown",
      "source": [
        "### **Descripción**\n",
        "\n",
        "```\n",
        "What is Ordinary Least Square Regression?\n",
        "```"
      ],
      "metadata": {
        "id": "u6eHLzjN6RPg"
      }
    },
    {
      "cell_type": "markdown",
      "source": [
        "La regresión de mínimos cuadrados ordinarios (OLS) es un método estadístico utilizado para modelar la relación lineal entre una variable dependiente y una o varias variables independientes. El objetivo de OLS es minimizar los residuos entre los valores observados y predichos de la variable dependiente al encontrar la línea de mejor ajuste a través de los datos. Esta línea está representada por la ecuación de regresión estimada, que se puede usar para hacer predicciones sobre la variable dependiente en función de los valores de las variables independientes. OLS se usa ampliamente en varios campos, incluidos la economía, las finanzas y la ingeniería, para hacer predicciones y analizar relaciones entre variables."
      ],
      "metadata": {
        "id": "I4kNG29fDWmV"
      }
    },
    {
      "cell_type": "markdown",
      "source": [
        "### **Bibtex y referencias**\n",
        "```\n",
        "Who wrote the first paper related to Ordinary Least Square Regression?\n",
        "```"
      ],
      "metadata": {
        "id": "Pp7ZnEiz7RPN"
      }
    },
    {
      "cell_type": "markdown",
      "source": [
        "El primer artículo relacionado con la regresión de mínimos cuadrados ordinarios (OLS) fue escrito por el estadístico y sociólogo inglés Sir Ronald A. Fisher a principios del siglo XX. En su artículo, Fisher introdujo el método de mínimos cuadrados como una forma de ajustar una línea recta a un conjunto de puntos de datos observados y describió la teoría matemática detrás de él. El trabajo de Fisher sentó las bases para el desarrollo de la regresión OLS y sigue siendo una importante contribución al campo de la estadística."
      ],
      "metadata": {
        "id": "0ZEyG3CuD5-W"
      }
    },
    {
      "cell_type": "markdown",
      "source": [
        "\n",
        "\n",
        "```\n",
        "@article{deboeck2010estimating,\n",
        "  title={Estimating dynamical systems: Derivative estimation hints from Sir Ronald A. Fisher},\n",
        "  author={Deboeck, Pascal R},\n",
        "  journal={Multivariate Behavioral Research},\n",
        "  volume={45},\n",
        "  number={4},\n",
        "  pages={725--745},\n",
        "  year={2010},\n",
        "  publisher={Taylor \\& Francis}\n",
        "}\n",
        "```\n",
        "\n"
      ],
      "metadata": {
        "id": "RGOpUUgaEeLU"
      }
    },
    {
      "cell_type": "markdown",
      "source": [
        "### **Tipo de Modelo**"
      ],
      "metadata": {
        "id": "0dxmj_FJ9GBQ"
      }
    },
    {
      "cell_type": "markdown",
      "source": [
        "\n",
        "\n",
        "```\n",
        "What type of model is Ordinary Least Square Regression?\n",
        "```\n",
        "\n"
      ],
      "metadata": {
        "id": "-4hosb_8_D7E"
      }
    },
    {
      "cell_type": "markdown",
      "source": [
        "La regresión de mínimos cuadrados ordinarios (OLS) es un tipo de modelo de regresión lineal. La regresión lineal es un método estadístico que modela la relación lineal entre una variable dependiente y una o varias variables independientes. En la regresión OLS, el objetivo es encontrar la línea de mejor ajuste que minimice los residuos entre los valores observados y predichos de la variable dependiente. La línea resultante está representada por la ecuación de regresión estimada, que es una ecuación lineal en la forma de Y = β0 + β1X1 + β2X2 + ... + βkXk, donde Y es la variable dependiente, X1, X2, ... Xk son las variables independientes, y β0, β1, β2, ... βk son los coeficientes que representan la pendiente y el intercepto de la recta."
      ],
      "metadata": {
        "id": "ppQaP-RgE4ag"
      }
    },
    {
      "cell_type": "markdown",
      "source": [
        "### **Algoritmos de entrenamiento**"
      ],
      "metadata": {
        "id": "gUfNqbiC8hj6"
      }
    },
    {
      "cell_type": "markdown",
      "source": [
        "`What are the trining algorithms for Ordinary Least Square Regression?`"
      ],
      "metadata": {
        "id": "lrlCuBnVAMlK"
      }
    },
    {
      "cell_type": "markdown",
      "source": [
        "Los algoritmos de entrenamiento más comunes para Ordinary Least Squares (OLS) Regression son el método de mínimos cuadrados y el método de gradiente descendente.\n",
        "\n",
        "Método de mínimos cuadrados: Este es el algoritmo original propuesto por Sir Ronald A. Fisher para resolver el problema de OLS. Consiste en encontrar la línea de mejor ajuste que minimiza la suma de los cuadrados de los residuos entre los valores observados y los valores previstos de la variable dependiente.\n",
        "\n",
        "Método de gradiente descendente: Este es un algoritmo de aprendizaje automático que se utiliza para optimizar la función de costo de un modelo de regresión lineal. Se basa en la idea de descender hacia el mínimo de la función de costo a través del uso de la derivada parcial de la función.\n",
        "\n",
        "Ambos algoritmos son ampliamente utilizados para resolver problemas de OLS regression y tienen sus propios pros y contras en términos de rapidez, precisión y estabilidad. La elección de un algoritmo en particular dependerá de las características de los datos y de los objetivos específicos del problema."
      ],
      "metadata": {
        "id": "nE8kjxaMFTo8"
      }
    },
    {
      "cell_type": "markdown",
      "source": [
        "### **Limitaciones, supuestos y restricciones**"
      ],
      "metadata": {
        "id": "d5xEs2Ae8n3w"
      }
    },
    {
      "cell_type": "markdown",
      "source": [
        "\n",
        "\n",
        "```\n",
        "What are the limitations and restrictions of Ordinary Least Square Regression?\n",
        "```\n",
        "\n"
      ],
      "metadata": {
        "id": "FnCloUjkAPr9"
      }
    },
    {
      "cell_type": "markdown",
      "source": [
        "Las limitaciones y restricciones de Ordinary Least Squares (OLS) Regression incluyen:\n",
        "\n",
        "> **Supuesto de linealidad:** OLS requiere que exista una relación lineal entre la variable dependiente y las variables independientes. Si esta suposición no se cumple, los resultados pueden ser erróneos o imprecisos.\n",
        "\n",
        "> **Supuesto de normalidad:** OLS asume que los residuos (errores) se distribuyen normalmente alrededor de cero. Si esta suposición no se cumple, los resultados pueden ser afectados y la interpretación de los coeficientes puede ser incorrecta.\n",
        "\n",
        "> **Supuesto de homoscedasticidad:** OLS asume que la varianza de los residuos es constante a lo largo de todo el rango de las variables independientes. Si esta suposición no se cumple, los errores pueden ser heteroscedásticos y afectar la precisión de los resultados.\n",
        "\n",
        "> **Multicolinealidad:** Si existe una correlación fuerte entre dos o más variables independientes, puede ser difícil determinar cuál de ellas es más importante para explicar la variación de la variable dependiente.\n",
        "\n",
        "> **No apto para modelos no lineales:** OLS es solo adecuado para modelos lineales. Si la relación entre la variable dependiente y las variables independientes es no lineal, es necesario utilizar un modelo de regresión no lineal.\n",
        "\n",
        "Estas limitaciones y restricciones deben ser consideradas cuidadosamente antes de utilizar OLS regression para solucionar un problema específico. Si es necesario, se pueden aplicar técnicas para corregir estos supuestos o utilizar modelos alternativos que sean más adecuados para los datos y las circunstancias específicas."
      ],
      "metadata": {
        "id": "oeCcEuFNGLBD"
      }
    },
    {
      "cell_type": "markdown",
      "source": [
        "### **Código**"
      ],
      "metadata": {
        "id": "T8GoIEfL-ayR"
      }
    },
    {
      "cell_type": "code",
      "source": [
        "import numpy as np\n",
        "import pandas as pd\n",
        "import statsmodels.api as sm\n",
        "\n",
        "# Load data\n",
        "df = pd.read_csv(\"Least.csv\")\n",
        "\n",
        "# Define independent and dependent variables\n",
        "X = df[['X1', 'X2', 'X3']]\n",
        "y = df['Y']\n",
        "\n",
        "# Add a constant to the independent variables\n",
        "X = sm.add_constant(X)\n",
        "\n",
        "# Create a OLS model\n",
        "model = sm.OLS(y, X).fit()\n",
        "\n",
        "# Print the summary of the model\n",
        "print(model.summary())"
      ],
      "metadata": {
        "id": "YEBF6_s4KfaL",
        "colab": {
          "base_uri": "https://localhost:8080/"
        },
        "outputId": "a358d87f-7086-43d3-efca-1e18ef5bc589"
      },
      "execution_count": null,
      "outputs": [
        {
          "output_type": "stream",
          "name": "stdout",
          "text": [
            "                            OLS Regression Results                            \n",
            "==============================================================================\n",
            "Dep. Variable:                      Y   R-squared:                       1.000\n",
            "Model:                            OLS   Adj. R-squared:                  1.000\n",
            "Method:                 Least Squares   F-statistic:                 2.641e+31\n",
            "Date:                Wed, 15 Feb 2023   Prob (F-statistic):           1.62e-47\n",
            "Time:                        14:00:40   Log-Likelihood:                 157.79\n",
            "No. Observations:                   5   AIC:                            -311.6\n",
            "Df Residuals:                       3   BIC:                            -312.4\n",
            "Df Model:                           1                                         \n",
            "Covariance Type:            nonrobust                                         \n",
            "==============================================================================\n",
            "                 coef    std err          t      P>|t|      [0.025      0.975]\n",
            "------------------------------------------------------------------------------\n",
            "const      -3.553e-15   6.45e-15     -0.550      0.620   -2.41e-14     1.7e-14\n",
            "X1             0.7143   1.39e-16   5.14e+15      0.000       0.714       0.714\n",
            "X2             1.4286   2.78e-16   5.14e+15      0.000       1.429       1.429\n",
            "X3             2.1429   4.17e-16   5.14e+15      0.000       2.143       2.143\n",
            "==============================================================================\n",
            "Omnibus:                          nan   Durbin-Watson:                   0.222\n",
            "Prob(Omnibus):                    nan   Jarque-Bera (JB):                0.638\n",
            "Skew:                           0.000   Prob(JB):                        0.727\n",
            "Kurtosis:                       1.250   Cond. No.                     4.82e+16\n",
            "==============================================================================\n",
            "\n",
            "Notes:\n",
            "[1] Standard Errors assume that the covariance matrix of the errors is correctly specified.\n",
            "[2] The smallest eigenvalue is 3.33e-31. This might indicate that there are\n",
            "strong multicollinearity problems or that the design matrix is singular.\n"
          ]
        },
        {
          "output_type": "stream",
          "name": "stderr",
          "text": [
            "/usr/local/lib/python3.8/dist-packages/statsmodels/tsa/tsatools.py:142: FutureWarning: In a future version of pandas all arguments of concat except for the argument 'objs' will be keyword-only\n",
            "  x = pd.concat(x[::order], 1)\n",
            "/usr/local/lib/python3.8/dist-packages/statsmodels/stats/stattools.py:74: ValueWarning: omni_normtest is not valid with less than 8 observations; 5 samples were given.\n",
            "  warn(\"omni_normtest is not valid with less than 8 observations; %i \"\n"
          ]
        }
      ]
    },
    {
      "cell_type": "markdown",
      "source": [
        "En este ejemplo, los datos se cargan primero en un DataFrame de pandas y luego se definen las variables independientes (X1, X2, X3) y la variable dependiente (Y). Luego se agrega una constante a las variables independientes usando sm.add_constant(). Finalmente, el modelo OLS se crea y ajusta utilizando sm.OLS() y fit(). El resumen del modelo se imprime usando model.summary()."
      ],
      "metadata": {
        "id": "3UGtUU-gG-hO"
      }
    },
    {
      "cell_type": "markdown",
      "source": [
        "---\n",
        "---\n",
        "---\n"
      ],
      "metadata": {
        "id": "7K4ZxdgA80cE"
      }
    },
    {
      "cell_type": "markdown",
      "source": [
        "# **2. Linear Regression**"
      ],
      "metadata": {
        "id": "n1NS43H18AOa"
      }
    },
    {
      "cell_type": "markdown",
      "source": [
        "### **Descripción**"
      ],
      "metadata": {
        "id": "x6LaCbX998ig"
      }
    },
    {
      "cell_type": "markdown",
      "source": [
        "\n",
        "\n",
        "```\n",
        "What is Linear Regression?\n",
        "```\n",
        "\n",
        "Linear Regression es un algoritmo de aprendizaje supervisado utilizado en el análisis de regresión. Se basa en la idea de que hay una relación lineal entre una o más variables independientes (predictoras) y una variable dependiente (objetivo). El objetivo de la regresión lineal es encontrar la mejor línea recta (o hipérbole en casos de regresión no lineal) que describe la relación entre las variables y permita predecir el valor de la variable dependiente para nuevos valores de las variables independientes.\n",
        "\n",
        "El proceso de entrenamiento consiste en encontrar los coeficientes de la recta que minimizan el error cuadrático medio entre los valores reales y los valores predichos por el modelo. Una vez entrenado, el modelo puede utilizarse para predecir la variable dependiente dado un conjunto de valores de las variables independientes."
      ],
      "metadata": {
        "id": "fiq0HnPw-fw9"
      }
    },
    {
      "cell_type": "markdown",
      "source": [
        "### **Bibtex y Referencias**"
      ],
      "metadata": {
        "id": "oSa-RzaA-BhS"
      }
    },
    {
      "cell_type": "markdown",
      "source": [
        "\n",
        "\n",
        "```\n",
        "Who wrote the first paper related to Linear Regression?\n",
        "```\n",
        "El primer artículo conocido sobre regresión lineal fue escrito por Francis Galton en el año 1885. Sin embargo, la idea de utilizar una línea recta para describir la relación entre variables fue propuesta mucho antes por el matemático y astrónomo alemán Carl Friedrich Gauss en el siglo XVIII. La regresión lineal es uno de los conceptos más antiguos y fundamentales en la estadística y ha sido desarrollado y mejorado por muchos otros investigadores a lo largo de los años.\n"
      ],
      "metadata": {
        "id": "vWdgqab8-mSL"
      }
    },
    {
      "cell_type": "markdown",
      "source": [
        "\n",
        "\n",
        "```\n",
        "@article{stanton2001galton,\n",
        "  title={Galton, Pearson, and the peas: A brief history of linear regression for statistics instructors},\n",
        "  author={Stanton, Jeffrey M},\n",
        "  journal={Journal of Statistics Education},\n",
        "  volume={9},\n",
        "  number={3},\n",
        "  year={2001},\n",
        "  publisher={Taylor \\& Francis}\n",
        "}\n",
        "```\n",
        "\n"
      ],
      "metadata": {
        "id": "uBHY4ME9Ho_c"
      }
    },
    {
      "cell_type": "markdown",
      "source": [
        "### **Tipo de Modelo**"
      ],
      "metadata": {
        "id": "a1tpka3A-F_i"
      }
    },
    {
      "cell_type": "markdown",
      "source": [
        "`What type of model is Linear regression?`\n",
        "\n",
        "Linear Regression es un modelo de regresión. La regresión es un tipo de modelo en el aprendizaje supervisado que se utiliza para predecir una variable continua basada en una o más variables independientes. En el caso de la regresión lineal, se supone que existe una relación lineal entre las variables, por lo que el modelo se representa como una línea recta (o una hipérbole en casos de regresión no lineal). La regresión lineal es uno de los modelos más simples y ampliamente utilizados en la estadística y la inteligencia artificial, y es un punto de partida importante para muchos otros modelos más complejos.\n",
        "\n"
      ],
      "metadata": {
        "id": "yIvv9upS-tFP"
      }
    },
    {
      "cell_type": "markdown",
      "source": [
        "### **Algoritmos de Entrenamiento**"
      ],
      "metadata": {
        "id": "jtNvdnsl-LKN"
      }
    },
    {
      "cell_type": "markdown",
      "source": [
        "`What are the trining algorithms for Linear Regression?`"
      ],
      "metadata": {
        "id": "cTXUO85J_Lrz"
      }
    },
    {
      "cell_type": "markdown",
      "source": [
        "Hay varios algoritmos diferentes que se utilizan para entrenar modelos de regresión lineal, aquí están algunos de los más comunes:\n",
        "\n",
        "> **Regresión lineal Ordinaria mínimos cuadrados (OLS):** Es uno de los métodos más simples y ampliamente utilizados para entrenar un modelo de regresión lineal. Consiste en minimizar el error cuadrático medio entre los valores reales y los valores predichos por el modelo.\n",
        "\n",
        "> **Gradiente Descendente:** Es un algoritmo de optimización que se utiliza para encontrar los coeficientes óptimos del modelo. El algoritmo se basa en calcular el gradiente (la tasa de cambio) de la función de pérdida y mover los coeficientes en la dirección opuesta para minimizar la función de pérdida.\n",
        "\n",
        "> **Regularización Ridge:** Es una técnica de regularización que se utiliza para prevenir el sobreajuste y mejorar la generalización del modelo. La regularización Ridge agrega una penalización a la función de pérdida para reducir el tamaño de los coeficientes del modelo.\n",
        "\n",
        "> **Regularización Lasso:** Es similar a la regularización Ridge, pero utiliza una penalización diferente que tiende a dar lugar a coeficientes que son exactamente cero. Esto puede ser útil para seleccionar automáticamente las variables más importantes en el modelo.\n",
        "\n",
        "Estos son solo algunos de los algoritmos más comunes utilizados para entrenar modelos de regresión lineal, y hay muchos otros métodos y variaciones disponibles dependiendo de la aplicación específica."
      ],
      "metadata": {
        "id": "rCClCVQJIXNq"
      }
    },
    {
      "cell_type": "markdown",
      "source": [
        "### **Limitaciones, supuestos y restricciones**"
      ],
      "metadata": {
        "id": "ffg7Zm_5-PN-"
      }
    },
    {
      "cell_type": "markdown",
      "source": [
        "\n",
        "\n",
        "```\n",
        "What are the limitations and restrictions of Linear Regression?\n",
        "```\n",
        "\n"
      ],
      "metadata": {
        "id": "GLAIfaLL_WgI"
      }
    },
    {
      "cell_type": "markdown",
      "source": [
        "Los supuestos de la regresión lineal incluyen:\n",
        "\n",
        "> **Linealidad:** La relación entre las variables independientes y la variable dependiente es lineal.\n",
        "\n",
        "> **Homocedasticidad:** La varianza de los errores es constante para todos los valores de la variable independiente.\n",
        "\n",
        "> **Independencia de los errores:** Los errores (residuos) no están correlacionados entre sí.\n",
        "\n",
        "> **Normalidad de los errores:** Los errores siguen una distribución normal.\n",
        "\n",
        "> **Ausencia de colinealidad perfecta:** Las variables independientes no están perfectamente correlacionadas entre sí.\n",
        "\n",
        "Las limitaciones y restricciones incluyen:\n",
        "\n",
        "> La regresión lineal sólo puede modelar relaciones lineales, por lo que no puede capturar relaciones no lineales.\n",
        "\n",
        "> La regresión lineal asume que la relación entre las variables es constante, por lo que puede no ser adecuada para modelar relaciones dinámicas o cambiantes.\n",
        "\n",
        "> La regresión lineal no puede manejar variables categóricas sin codificación previa.\n",
        "\n",
        "> La regresión lineal no puede manejar interacciones complejas entre las variables independientes.\n",
        "\n",
        "Es importante tener en cuenta estos supuestos, limitaciones y restricciones al utilizar la regresión lineal, ya que pueden afectar la precisión y validez de los resultados."
      ],
      "metadata": {
        "id": "pv4eoXzUJ-E3"
      }
    },
    {
      "cell_type": "markdown",
      "source": [
        "### **Código**"
      ],
      "metadata": {
        "id": "zf2pxWCe-Uux"
      }
    },
    {
      "cell_type": "code",
      "source": [
        "from sklearn.linear_model import LinearRegression\n",
        "import numpy as np\n",
        "\n",
        "# input data\n",
        "X = np.array([[1], [2], [3], [4], [5]])\n",
        "y = np.array([2, 4, 6, 8, 10])\n",
        "\n",
        "# training the model\n",
        "reg = LinearRegression().fit(X, y)\n",
        "\n",
        "# getting the coefficients and intercept\n",
        "print(\"Coefficients:\", reg.coef_)\n",
        "print(\"Intercept:\", reg.intercept_)\n",
        "\n",
        "# predicting the output\n",
        "y_pred = reg.predict(X)\n",
        "print(\"Predicted output:\", y_pred)"
      ],
      "metadata": {
        "colab": {
          "base_uri": "https://localhost:8080/"
        },
        "id": "3kb7GPdtJkiB",
        "outputId": "b7a0909d-bc54-48ab-d220-9506c22708ca"
      },
      "execution_count": null,
      "outputs": [
        {
          "output_type": "stream",
          "name": "stdout",
          "text": [
            "Coefficients: [2.]\n",
            "Intercept: 0.0\n",
            "Predicted output: [ 2.  4.  6.  8. 10.]\n"
          ]
        }
      ]
    },
    {
      "cell_type": "markdown",
      "source": [
        "---\n",
        "---\n",
        "---\n"
      ],
      "metadata": {
        "id": "WPPqWIKP8xse"
      }
    },
    {
      "cell_type": "markdown",
      "source": [
        "# **3. Logistic Regression**"
      ],
      "metadata": {
        "id": "EmIntbyyrjry"
      }
    },
    {
      "cell_type": "markdown",
      "source": [
        "### **Descripción**"
      ],
      "metadata": {
        "id": "Uh0Lq0AQiboK"
      }
    },
    {
      "cell_type": "markdown",
      "source": [
        "\n",
        "\n",
        "```\n",
        "What is logistic regression?\n",
        "```\n",
        "\n"
      ],
      "metadata": {
        "id": "jqQJmJjJzdUt"
      }
    },
    {
      "cell_type": "markdown",
      "source": [
        "La regresión logística es un método estadístico utilizado para analizar un conjunto de datos en el que hay una o más variables independientes que determinan un resultado. El desenlace se mide con una variable dicotómica (en la que solo hay dos posibles desenlaces). Se utiliza para predecir un resultado binario (1/0, Sí/No, Verdadero/Falso) dado un conjunto de variables independientes.\n",
        "\n",
        "Es un tipo de modelo lineal generalizado (GLM) que utiliza una función logística para modelar una variable dependiente binaria, que es la regresión logística. La función logística también se conoce como función sigmoidea, que asigna cualquier valor de entrada desde infinito negativo a infinito positivo y genera un valor entre 0 y 1. Este valor de salida se puede interpretar como la probabilidad de la clase positiva o la probabilidad del evento. ocurriendo La regresión logística se usa ampliamente en varios campos, como la investigación médica, la economía y las ciencias sociales para modelar y hacer predicciones sobre la probabilidad de que ocurran ciertos eventos."
      ],
      "metadata": {
        "id": "QqmlaJYNsKd8"
      }
    },
    {
      "cell_type": "markdown",
      "source": [
        "### **Bibtex y referencias**"
      ],
      "metadata": {
        "id": "c9sriwLEii_v"
      }
    },
    {
      "cell_type": "markdown",
      "source": [
        "\n",
        "\n",
        "```\n",
        "Who wrote the first paper related logistic regression?\n",
        "```\n",
        "\n"
      ],
      "metadata": {
        "id": "IsND1cqazmCb"
      }
    },
    {
      "cell_type": "markdown",
      "source": [
        "Los orígenes de la regresión logística se remontan al trabajo del estadístico David Cox en 1958, quien publicó el primer artículo sobre el método en la revista \"Journal of the Royal Statistical Society, Series B\" titulado \"El análisis de regresión de secuencias binarias\". en el que introdujo el concepto de regresión logística. En este artículo, Cox propuso un método para ajustar un modelo lineal a una variable de resultado binaria, al que llamó \"análisis logit\". Posteriormente, el método fue ampliado y refinado por otros estadísticos en los años siguientes.\n",
        "\n",
        "Es importante señalar que el desarrollo de la regresión logística fue un proceso gradual y muchos estadísticos contribuyeron a su desarrollo. Algunos otros contribuyentes notables incluyen a Jerome Cornfield, quien introdujo el término \"regresión logística\" en un artículo de 1960, y Peter McCullagh, quien escribió un libro de texto ampliamente utilizado sobre el método en 1980."
      ],
      "metadata": {
        "id": "ZHubUsMYsnuc"
      }
    },
    {
      "cell_type": "markdown",
      "source": [
        "#### Bibtex\n",
        "```\n",
        "@article{cox1958regression,\n",
        "  title={The regression analysis of binary sequences},\n",
        "  author={Cox, David R},\n",
        "  journal={Journal of the Royal Statistical Society: Series B (Methodological)},\n",
        "  volume={20},\n",
        "  number={2},\n",
        "  pages={215--232},\n",
        "  year={1958},\n",
        "  publisher={Wiley Online Library}\n",
        "}\n",
        "```\n",
        "\n"
      ],
      "metadata": {
        "id": "9J7dnC_ttMTi"
      }
    },
    {
      "cell_type": "markdown",
      "source": [
        "### **Algoritmos de entrenamiento**"
      ],
      "metadata": {
        "id": "GKZbHDbGjCl6"
      }
    },
    {
      "cell_type": "markdown",
      "source": [
        "`What are the algorithms for logistic regression`\n",
        "\n",
        "\n"
      ],
      "metadata": {
        "id": "soY4hSvA2rIB"
      }
    },
    {
      "cell_type": "markdown",
      "source": [
        "Estimación de Máxima Verosimilitud: Estima los parámetros de la función logística maximizando la verosimilitud de los datos observados.\n",
        "\n",
        "Descenso del gradiente: Actualiza iterativamente los parámetros en la dirección del gradiente de la función de verosimilitud logarítmica.\n",
        "\n",
        "Newton-Raphson:Es una extensión del descenso del gradiente y utiliza la segunda derivada de la función de verosimilitud logarítmica para mejorar la tasa de convergencia.\n",
        "\n",
        "Puntuación de Fisher: es un método de optimización iterativo para la estimación de máxima verosimilitud, es similar al método de Newton-Raphson\n",
        "\n",
        "Otros algoritmos de entrenamiento son Método Quasi-Newton, L-BFGS y Método del gradiente conjugado"
      ],
      "metadata": {
        "id": "FIx3i1Ma244o"
      }
    },
    {
      "cell_type": "markdown",
      "source": [
        "@article{amayaregresion,\n",
        "  title={Regresi{\\'o}n Log{\\'\\i}stica y M{\\'a}xima Verosimilitud para clasificaci{\\'o}n de personas diagnosticadas con Trastorno de D{\\'e}ficit de Atenci{\\'o}n e Hiperactividad},\n",
        "  author={Amaya, Iv{\\'a}n Alejandro Garc{\\'\\i}a and Fern{\\'a}ndez, Marco Antonio Aceves and Tovar, Sa{\\'u}l and Arriaga, Juan Manuel Ramos Arregu{\\'\\i}n}\n",
        "}"
      ],
      "metadata": {
        "id": "r3Hekp5K2_-Q"
      }
    },
    {
      "cell_type": "markdown",
      "source": [
        "### **Limitaciones, supuestos  y restricciones**"
      ],
      "metadata": {
        "id": "2DdU3sFzjTC5"
      }
    },
    {
      "cell_type": "markdown",
      "source": [
        "\n",
        "\n",
        "```\n",
        "What are the limitations and restrictions of the logistic regression?\n",
        "```\n",
        "\n"
      ],
      "metadata": {
        "id": "L37P-YQcz5yT"
      }
    },
    {
      "cell_type": "markdown",
      "source": [
        "Existen varias limitaciones y restricciones de la regresión logística que deben tenerse en cuenta al utilizar el método:\n",
        "\n",
        "- **Linealidad de las variables independientes:** La regresión logística asume que la relación entre las variables independientes y la variable dependiente es lineal. Si la relación no es lineal, es posible que el modelo no sea exacto.\n",
        "\n",
        "- **Independencia de las observaciones:** la regresión logística supone que las observaciones son independientes entre sí. Si existe una correlación entre las observaciones, puede conducir a estimaciones sesgadas o ineficientes.\n",
        "\n",
        "- **Requisito de tamaño de muestra grande:** la regresión logística requiere un tamaño de muestra grande para producir estimaciones de parámetros precisas y estables. Con tamaños de muestra pequeños, las estimaciones pueden no ser confiables.\n",
        "\n",
        "- **Multicolinealidad:** la regresión logística asume que las variables independientes no están altamente correlacionadas entre sí. Si existe un alto grado de multicolinealidad entre las variables independientes, puede dar lugar a estimaciones de parámetros inestables.\n",
        "\n",
        "- **Valores atípicos y extremos:** la regresión logística es sensible a valores atípicos y extremos. Estos valores pueden tener una gran influencia en las estimaciones de los parámetros y pueden dar lugar a un sobreajuste.\n",
        "\n",
        "- **Variable dependiente dicotómica:** la regresión logística solo se usa para variables dependientes que tienen un resultado binario (0/1, sí/no, verdadero/falso). Si la variable dependiente tiene más de dos resultados, se deben utilizar otros métodos, como la regresión logística multinomial o la regresión logística ordinal.\n",
        "\n",
        "Es importante tener en cuenta estas limitaciones y restricciones al interpretar los resultados de un análisis de regresión logística y no generalizar demasiado los resultados."
      ],
      "metadata": {
        "id": "kInK3MB4wFvr"
      }
    },
    {
      "cell_type": "markdown",
      "source": [
        "#### **Test de valores atípicos y extremos**"
      ],
      "metadata": {
        "id": "STz32Nj-zQUM"
      }
    },
    {
      "cell_type": "markdown",
      "source": [
        "\n",
        "\n",
        "```\n",
        "How to do a test of Outliers and extreme values in logistic regression?\n",
        "```\n",
        "\n"
      ],
      "metadata": {
        "id": "L6DYrlP-0EoL"
      }
    },
    {
      "cell_type": "markdown",
      "source": [
        "Existen varios métodos para detectar valores atípicos y extremos en la regresión logística:\n",
        "\n",
        "Análisis de residuos: una forma de detectar valores atípicos y extremos es examinar los residuos, que son las diferencias entre los valores observados y los valores predichos. Los residuos grandes pueden indicar un valor atípico o extremo.\n",
        "\n",
        "Distancia de Cook: La distancia de Cook es una medida de la influencia de cada observación en el modelo. Es probable que las observaciones con una distancia de Cook alta sean valores atípicos o extremos.\n",
        "\n",
        "Apalancamiento: El apalancamiento es una medida de qué tan lejos está una observación de la media de las variables independientes. Los puntos de alto apalancamiento pueden indicar valores atípicos o extremos.\n",
        "\n",
        "Gráficos de detección de valores atípicos: otra forma de detectar valores atípicos y valores extremos es utilizar gráficos de detección de valores atípicos, como el gráfico de probabilidad normal de los residuos o un gráfico de dispersión de los residuos contra los valores predichos.\n",
        "\n",
        "Distancia de Mahalanobis: La distancia de Mahalanobis es una medida estadística de la distancia entre un punto y la distribución de datos. Se utiliza para identificar valores atípicos y extremos en datos multivariados.\n",
        "\n",
        "Una vez que haya identificado valores atípicos y extremos, puede decidir qué hacer con ellos, según sus datos y la pregunta de investigación. Por ejemplo, puede optar por eliminarlos del análisis o tratar de comprender por qué son diferentes de las demás observaciones. Es importante recordar que eliminar los valores atípicos puede cambiar las estimaciones de los coeficientes, por lo que también debe verificar el ajuste del modelo después de eliminar los valores atípicos."
      ],
      "metadata": {
        "id": "0ZQio5sY0LhT"
      }
    },
    {
      "cell_type": "markdown",
      "source": [
        "linealidad\n",
        "independencia de los errores\n",
        "homocedasticidad\n",
        "normalidad en los residuales\n",
        "exclusion de multicolinealidad\n",
        "no autocorrelacion"
      ],
      "metadata": {
        "id": "zTZ3OK6kjVXB"
      }
    },
    {
      "cell_type": "markdown",
      "source": [
        "#### **Dependencia lineal**"
      ],
      "metadata": {
        "id": "YTK5Zag1job6"
      }
    },
    {
      "cell_type": "markdown",
      "source": [
        "`Ejemplo de codigo de dependencia lineal en regresion logistica`"
      ],
      "metadata": {
        "id": "QSKVH9a43cQC"
      }
    },
    {
      "cell_type": "code",
      "source": [
        "import matplotlib.pyplot as plt\n",
        "import pandas as pd\n",
        "\n",
        "# Load data into a pandas DataFrame\n",
        "data = pd.read_csv(\"Logistic.csv\")\n",
        "\n",
        "# Plot the scatter plot between two variables\n",
        "plt.scatter(data['age'], data['income'])\n",
        "plt.xlabel('Age')\n",
        "plt.ylabel('Income')\n",
        "plt.show()"
      ],
      "metadata": {
        "colab": {
          "base_uri": "https://localhost:8080/",
          "height": 279
        },
        "id": "KiOr7LHt3ZpC",
        "outputId": "ff37c3b9-1c8c-4b6c-84f2-af4c5b5aadeb"
      },
      "execution_count": null,
      "outputs": [
        {
          "output_type": "display_data",
          "data": {
            "text/plain": [
              "<Figure size 432x288 with 1 Axes>"
            ],
            "image/png": "[encoded data removed]"
          },
          "metadata": {
            "needs_background": "light"
          }
        }
      ]
    },
    {
      "cell_type": "markdown",
      "source": [
        "Este código crea un gráfico de dispersión que muestra la relación entre la edad y el ingreso de cada individuo en el conjunto de datos. Si la relación entre estas dos variables es lineal, se puede asumir una dependencia lineal entre ellas y, por lo tanto, se puede utilizar en un modelo de Regresión Logística."
      ],
      "metadata": {
        "id": "nRZAJ33z3vDZ"
      }
    },
    {
      "cell_type": "markdown",
      "source": [
        "#### **Independencia Observacional**"
      ],
      "metadata": {
        "id": "agOMSBuO3x1y"
      }
    },
    {
      "cell_type": "markdown",
      "source": [
        "`Independencia observacional regresion logistica ejemplo`"
      ],
      "metadata": {
        "id": "97DrkZ2n33b3"
      }
    },
    {
      "cell_type": "code",
      "source": [
        "import pandas as pd\n",
        "import numpy as np\n",
        "import seaborn as sns\n",
        "import matplotlib.pyplot as plt\n",
        "from sklearn.linear_model import LogisticRegression\n",
        "from sklearn.model_selection import train_test_split\n",
        "\n",
        "# Load data into a pandas DataFrame\n",
        "data = pd.read_csv(\"Logistic2.csv\")\n",
        "\n",
        "# Split the data into a training set and a test set\n",
        "X = data[['age', 'income']]\n",
        "y = data['purchased']\n",
        "X_train, X_test, y_train, y_test = train_test_split(X, y, test_size=0.2, random_state=0)\n",
        "\n",
        "# Fit the logistic regression model\n",
        "logreg = LogisticRegression()\n",
        "logreg.fit(X_train, y_train)\n",
        "\n",
        "# Check for independence between observations\n",
        "sns.heatmap(data.corr(), annot=True, cmap='coolwarm')\n",
        "plt.show()"
      ],
      "metadata": {
        "colab": {
          "base_uri": "https://localhost:8080/",
          "height": 269
        },
        "id": "HoCmsm-w31Ni",
        "outputId": "736c42a1-d863-4fdf-84e6-f70fe8034d32"
      },
      "execution_count": null,
      "outputs": [
        {
          "output_type": "display_data",
          "data": {
            "text/plain": [
              "<Figure size 432x288 with 2 Axes>"
            ],
            "image/png": "[encoded data removed]"
          },
          "metadata": {
            "needs_background": "light"
          }
        }
      ]
    },
    {
      "cell_type": "markdown",
      "source": [
        "Si la correlación entre dos o más variables es alta, podría ser necesario tomar medidas adicionales para garantizar la independencia observacional."
      ],
      "metadata": {
        "id": "Il4fDi4O38GM"
      }
    },
    {
      "cell_type": "markdown",
      "source": [
        "#### **Distribución de la variable dependiente**"
      ],
      "metadata": {
        "id": "R99RhvGi3_45"
      }
    },
    {
      "cell_type": "markdown",
      "source": [
        "`Distribucion de la variable dependiente ejemplo`"
      ],
      "metadata": {
        "id": "MN1-VlnM4EXr"
      }
    },
    {
      "cell_type": "code",
      "source": [
        "import pandas as pd\n",
        "import seaborn as sns\n",
        "import matplotlib.pyplot as plt\n",
        "\n",
        "# Load data into a pandas DataFrame\n",
        "data = pd.read_csv(\"Logistic2.csv\")\n",
        "\n",
        "# Plot the distribution of the target variable\n",
        "sns.countplot(data['purchased'])\n",
        "plt.show()"
      ],
      "metadata": {
        "id": "NKpxErko4CIC",
        "colab": {
          "base_uri": "https://localhost:8080/",
          "height": 334
        },
        "outputId": "ebbeb50f-edb7-4700-ffe2-436892b33418"
      },
      "execution_count": null,
      "outputs": [
        {
          "output_type": "stream",
          "name": "stderr",
          "text": [
            "/usr/local/lib/python3.8/dist-packages/seaborn/_decorators.py:36: FutureWarning: Pass the following variable as a keyword arg: x. From version 0.12, the only valid positional argument will be `data`, and passing other arguments without an explicit keyword will result in an error or misinterpretation.\n",
            "  warnings.warn(\n"
          ]
        },
        {
          "output_type": "display_data",
          "data": {
            "text/plain": [
              "<Figure size 432x288 with 1 Axes>"
            ],
            "image/png": "[encoded data removed]"
          },
          "metadata": {
            "needs_background": "light"
          }
        }
      ]
    },
    {
      "cell_type": "markdown",
      "source": [
        "El gráfico de barras muestra cuántas observaciones hay para cada valor de la variable dependiente, lo que ayuda a verificar si la variable dependiente sigue una distribución binomial."
      ],
      "metadata": {
        "id": "E8pmJr7z4LuE"
      }
    },
    {
      "cell_type": "markdown",
      "source": [
        "#### **No multicolinealidad**"
      ],
      "metadata": {
        "id": "_r7bH5194PnY"
      }
    },
    {
      "cell_type": "markdown",
      "source": [
        "`No multicolinealidad ejemplo regresión logística`\n"
      ],
      "metadata": {
        "id": "8Yj2TA8L4RHc"
      }
    },
    {
      "cell_type": "code",
      "source": [
        "import pandas as pd\n",
        "import seaborn as sns\n",
        "import matplotlib.pyplot as plt\n",
        "\n",
        "# Load data into a pandas DataFrame\n",
        "data = pd.read_csv(\"Logistic2.csv\")\n",
        "\n",
        "# Calculate the correlation matrix\n",
        "corr = data.corr()\n",
        "\n",
        "# Plot the correlation matrix using a heatmap\n",
        "sns.heatmap(corr, annot=True)\n",
        "plt.show()"
      ],
      "metadata": {
        "id": "J6VAEYor4NTa",
        "colab": {
          "base_uri": "https://localhost:8080/",
          "height": 269
        },
        "outputId": "d39b30a2-b8bc-4a16-dbae-60cf4e457550"
      },
      "execution_count": null,
      "outputs": [
        {
          "output_type": "display_data",
          "data": {
            "text/plain": [
              "<Figure size 432x288 with 2 Axes>"
            ],
            "image/png": "[encoded data removed]"
          },
          "metadata": {
            "needs_background": "light"
          }
        }
      ]
    },
    {
      "cell_type": "markdown",
      "source": [
        "Este código carga los datos en un DataFrame de Pandas, calcula la matriz de correlación y luego crea un gráfico de calor que muestra las correlaciones entre las variables independientes. Si la multicolinealidad es un problema, se puede ver en el gráfico de calor como varias variables tienen una correlación alta entre sí."
      ],
      "metadata": {
        "id": "YQ531kW94ZMr"
      }
    },
    {
      "cell_type": "markdown",
      "source": [
        "---\n",
        "---\n",
        "---"
      ],
      "metadata": {
        "id": "tdzGUrtt8tI7"
      }
    },
    {
      "cell_type": "markdown",
      "source": [
        "# **4. Stepwise Regression**"
      ],
      "metadata": {
        "id": "CJvJOKHj8iEH"
      }
    },
    {
      "cell_type": "markdown",
      "source": [
        "### **Description**"
      ],
      "metadata": {
        "id": "hBJoco4kAogO"
      }
    },
    {
      "cell_type": "markdown",
      "source": [
        "\n",
        "\n",
        "```\n",
        "What is Stepwise Regression?\n",
        "```\n",
        "\n",
        "Stepwise regression es un método para seleccionar automáticamente las variables independientes más importantes en un modelo de regresión lineal. Funciona mediante la inclusión o exclusión sucesiva de variables en el modelo, basándose en criterios de selección estadísticos.\n",
        "\n",
        "Existen dos tipos de regresión stepwise: forward selection y backward elimination. En la selección hacia adelante, se comienza con un modelo vacío y se agrega una variable a la vez, basándose en su poder explicativo. En la eliminación hacia atrás, se comienza con todas las variables y se elimina una variable a la vez, basándose en su importancia para el modelo.\n",
        "\n",
        "La regresión stepwise se utiliza comúnmente cuando hay un gran número de variables independientes disponibles y se quiere simplificar el modelo, reduciendo el número de variables y mejorando la interpretabilidad. Sin embargo, también hay críticas sobre su uso, ya que puede dar lugar a una selección subóptima de variables y a overfitting. Por lo tanto, es importante considerar cuidadosamente los supuestos, limitaciones y restricciones antes de utilizar la regresión stepwise."
      ],
      "metadata": {
        "id": "dHPILqPNA2aR"
      }
    },
    {
      "cell_type": "markdown",
      "source": [
        "### **Bibtex y referencias**\n",
        "```\n",
        "Who wrote the first paper related to Ordinary Least Square Regression?\n",
        "```\n",
        "El primer artículo relacionado con la regresión stepwise fue escrito por Jerome H. Friedman y W. J. Tukey en 1958, titulado \"Simultaneous Inference in Qualitative Analysis\". En este artículo, los autores presentaron un método llamado \"stepwise multiple regression\", que fue una de las primeras formas de regresión stepwise. Sin embargo, la técnica se ha desarrollado y mejorado desde entonces y su nombre actual es simplemente \"regresión stepwise\".\n",
        "\n",
        "\n",
        "```\n",
        "@techreport{fisherkeller1974interactive,\n",
        "  title={An interactive multidimensional data display and analysis system},\n",
        "  author={Fisherkeller, Mary Anne and Friedman, Jerome H and Tukey, John W},\n",
        "  year={1974},\n",
        "  institution={SLAC National Accelerator Lab., Menlo Park, CA (United States)}\n",
        "}\n",
        "```\n",
        "\n"
      ],
      "metadata": {
        "id": "ve1QhlocBBvo"
      }
    },
    {
      "cell_type": "markdown",
      "source": [
        "### **Tipo de Modelo**\n",
        "\n",
        "\n",
        "```\n",
        "What type of model is Stepwise Regression?\n",
        "```\n",
        "\n"
      ],
      "metadata": {
        "id": "2EV-3FVOBHtk"
      }
    },
    {
      "cell_type": "markdown",
      "source": [
        "La regresión stepwise es un tipo de modelo de selección de variables. Se utiliza para seleccionar las variables independientes más importantes en un modelo de regresión lineal, utilizando un enfoque automatizado basado en criterios estadísticos.\n",
        "\n",
        "El objetivo de la regresión stepwise es simplificar el modelo y mejorar la interpretabilidad, al reducir el número de variables independientes mientras se mantiene una precisión adecuada. Hay dos tipos de regresión stepwise: forward selection y backward elimination. Ambas técnicas utilizan un proceso iterativo para agregar o eliminar variables, basándose en criterios estadísticos.\n",
        "\n",
        "En resumen, la regresión stepwise es un tipo de modelo de selección de variables, utilizado para seleccionar automáticamente las variables independientes más importantes en un modelo de regresión lineal."
      ],
      "metadata": {
        "id": "FMxyu1CNLyo6"
      }
    },
    {
      "cell_type": "markdown",
      "source": [
        "### **Algoritmos de entrenamiento**\n",
        "\n",
        "\n",
        "```\n",
        "What are the training algorithms for Stepwise Regression?\n",
        "```\n",
        "\n"
      ],
      "metadata": {
        "id": "0yap6RT_BSGd"
      }
    },
    {
      "cell_type": "markdown",
      "source": [
        "La regresión stepwise no es un algoritmo de entrenamiento en sí mismo, sino un método de selección de variables para modelos de regresión lineal.\n",
        "El método stepwise se puede aplicar a cualquier tipo de modelo de regresión lineal entrenado mediante uno de estos algoritmos. En la selección hacia adelante, se comienza con un modelo vacío y se agrega una variable a la vez, basándose en su poder explicativo. En la eliminación hacia atrás, se comienza con todas las variables y se elimina una variable a la vez, basándose en su importancia para el modelo."
      ],
      "metadata": {
        "id": "ClTbp7BmMK8h"
      }
    },
    {
      "cell_type": "markdown",
      "source": [
        "### **Limitaciones, supuestos y restricciones**\n",
        "\n",
        "\n",
        "```\n",
        "What are the limitations and restriction for Stepwise Regression?\n",
        "```\n",
        "\n"
      ],
      "metadata": {
        "id": "ljbVptnbBfh0"
      }
    },
    {
      "cell_type": "markdown",
      "source": [
        "Algunos de los supuestos, limitaciones y restricciones de la regresión stepwise son los siguientes:\n",
        "\n",
        "> **Supuesto de linearidad:** La relación entre las variables independientes y la variable dependiente debe ser lineal.\n",
        "\n",
        "> **Supuesto de normalidad:** Las residuales del modelo deben seguir una distribución normal.\n",
        "\n",
        "> **Supuesto de homocedasticidad:** La varianza de las residuales debe ser constante a lo largo del rango de las variables independientes.\n",
        "\n",
        "> **Multicolinealidad:** La regresión stepwise no es adecuada para manejar la multicolinealidad, ya que puede producir resultados erróneos.\n",
        "\n",
        "> **Automatización:** La automatización puede ser una desventaja, ya que puede seleccionar variables no importantes o no relevantes y descartar variables importantes.\n",
        "\n",
        "> **Elección del criterio:** La elección del criterio para seleccionar o eliminar variables puede tener un impacto en los resultados.\n",
        "\n",
        "> **Sensibilidad a la inclusión o exclusión de variables:** La inclusión o exclusión de variables puede afectar significativamente los resultados.\n",
        "\n",
        "> **Validación del modelo:** La regresión stepwise no asegura un modelo óptimo o que tenga un buen ajuste. Se debe validar el modelo utilizando métodos como la validación cruzada."
      ],
      "metadata": {
        "id": "ltngzVu9MrR-"
      }
    },
    {
      "cell_type": "markdown",
      "source": [
        "### **Código**"
      ],
      "metadata": {
        "id": "W4RPXGIrBrx9"
      }
    },
    {
      "cell_type": "code",
      "source": [
        "from sklearn.datasets import load_boston\n",
        "from sklearn.linear_model import LinearRegression\n",
        "from sklearn.model_selection import train_test_split\n",
        "from sklearn.metrics import mean_squared_error\n",
        "\n",
        "# Load the Boston Housing dataset\n",
        "boston = load_boston()\n",
        "X = boston.data\n",
        "y = boston.target\n",
        "\n",
        "# Split the data into training and testing sets\n",
        "X_train, X_test, y_train, y_test = train_test_split(X, y, test_size=0.2, random_state=42)\n",
        "\n",
        "# Forward stepwise regression\n",
        "def forward_stepwise_regression(X_train, y_train, X_test, y_test):\n",
        "    model = LinearRegression()\n",
        "    selected_features = []\n",
        "    best_score = float('inf')\n",
        "    for feature in range(X_train.shape[1]):\n",
        "        if feature in selected_features:\n",
        "            continue\n",
        "        model.fit(X_train[:, selected_features + [feature]], y_train)\n",
        "        score = mean_squared_error(y_test, model.predict(X_test[:, selected_features + [feature]]))\n",
        "        if score < best_score:\n",
        "            best_score = score\n",
        "            selected = feature\n",
        "    selected_features.append(selected)\n",
        "    return selected_features\n",
        "\n",
        "# Fit the model\n",
        "selected_features = forward_stepwise_regression(X_train, y_train, X_test, y_test)\n",
        "print(\"Selected features:\", selected_features)\n"
      ],
      "metadata": {
        "id": "3FfWtIRxOG6a",
        "colab": {
          "base_uri": "https://localhost:8080/"
        },
        "outputId": "9b55b9b1-7461-486b-f44c-a2882a436a61"
      },
      "execution_count": null,
      "outputs": [
        {
          "output_type": "stream",
          "name": "stdout",
          "text": [
            "Selected features: [12]\n"
          ]
        },
        {
          "output_type": "stream",
          "name": "stderr",
          "text": [
            "/usr/local/lib/python3.8/dist-packages/sklearn/utils/deprecation.py:87: FutureWarning: Function load_boston is deprecated; `load_boston` is deprecated in 1.0 and will be removed in 1.2.\n",
            "\n",
            "    The Boston housing prices dataset has an ethical problem. You can refer to\n",
            "    the documentation of this function for further details.\n",
            "\n",
            "    The scikit-learn maintainers therefore strongly discourage the use of this\n",
            "    dataset unless the purpose of the code is to study and educate about\n",
            "    ethical issues in data science and machine learning.\n",
            "\n",
            "    In this special case, you can fetch the dataset from the original\n",
            "    source::\n",
            "\n",
            "        import pandas as pd\n",
            "        import numpy as np\n",
            "\n",
            "\n",
            "        data_url = \"http://lib.stat.cmu.edu/datasets/boston\"\n",
            "        raw_df = pd.read_csv(data_url, sep=\"\\s+\", skiprows=22, header=None)\n",
            "        data = np.hstack([raw_df.values[::2, :], raw_df.values[1::2, :2]])\n",
            "        target = raw_df.values[1::2, 2]\n",
            "\n",
            "    Alternative datasets include the California housing dataset (i.e.\n",
            "    :func:`~sklearn.datasets.fetch_california_housing`) and the Ames housing\n",
            "    dataset. You can load the datasets as follows::\n",
            "\n",
            "        from sklearn.datasets import fetch_california_housing\n",
            "        housing = fetch_california_housing()\n",
            "\n",
            "    for the California housing dataset and::\n",
            "\n",
            "        from sklearn.datasets import fetch_openml\n",
            "        housing = fetch_openml(name=\"house_prices\", as_frame=True)\n",
            "\n",
            "    for the Ames housing dataset.\n",
            "    \n",
            "  warnings.warn(msg, category=FutureWarning)\n"
          ]
        }
      ]
    },
    {
      "cell_type": "markdown",
      "source": [
        "Este código implementa forward stepwise regression para el conjunto de datos de Boston Housing. Primero, se divide el conjunto de datos en conjuntos de entrenamiento y prueba. Luego, se define una función forward_stepwise_regression que selecciona una característica a la vez y calcula el error cuadrático medio en el conjunto de prueba para cada selección. Finalmente, se ajusta el modelo utilizando las características seleccionadas y se imprimen las características seleccionadas.\n",
        "\n"
      ],
      "metadata": {
        "id": "lWBR4Yx0koJx"
      }
    },
    {
      "cell_type": "markdown",
      "source": [
        "# ***5. MARS algotihm***"
      ],
      "metadata": {
        "id": "vlwm5Nw8K3b4"
      }
    },
    {
      "cell_type": "markdown",
      "source": [
        "### **Descripción**"
      ],
      "metadata": {
        "id": "0uhQNHMmKF0A"
      }
    },
    {
      "cell_type": "markdown",
      "source": [
        "MARS (Multivariate Adaptive Regression Splines) es un método de regresión no paramétrico que modela la relación entre una variable dependiente y una o más variables independientes introducida por Jerome H. Friedman en 1991. Utiliza funciones lineales en trozos para aproximar la relación desconocida. Se utilizar tanto para relaciones lineales como no lineales, así como interacciones entre variables independientes.\n",
        "El algoritmo determina automáticamente el número y la ubicación óptimos de nudos, lo que le permite capturar patrones complejos en los datos.\n"
      ],
      "metadata": {
        "id": "lauI4rglLQJg"
      }
    },
    {
      "cell_type": "markdown",
      "source": [
        "@article{10.1214/aos/1176347963,\n",
        "author = {Jerome H. Friedman},\n",
        "title = {{Multivariate Adaptive Regression Splines}},\n",
        "volume = {19},\n",
        "journal = {The Annals of Statistics},\n",
        "number = {1},\n",
        "publisher = {Institute of Mathematical Statistics},\n",
        "pages = {1 -- 67},\n",
        "keywords = {AID, CART, multivariable function approximation, multivariate smoothing, Nonparametric multiple regression, recursive partitioning, splines, statistical learning neural networks},\n",
        "year = {1991},\n",
        "doi = {10.1214/aos/1176347963},\n",
        "URL = {https://doi.org/10.1214/aos/1176347963}\n",
        "}\n",
        "Fuente\n"
      ],
      "metadata": {
        "id": "PY6P9z72S6DW"
      }
    },
    {
      "cell_type": "markdown",
      "source": [
        "### **Tipo de Modelo**"
      ],
      "metadata": {
        "id": "W9sLjHWbKusw"
      }
    },
    {
      "cell_type": "markdown",
      "source": [
        "\n",
        "\n",
        "*   Modelo de Regresión\n",
        "*   Aprendizaje Offline\n",
        "*   Modelo matemático\n",
        "*   No paramétrico\n",
        "\n",
        "\n"
      ],
      "metadata": {
        "id": "67TQcqDCTKee"
      }
    },
    {
      "cell_type": "markdown",
      "source": [
        "### **Algoritmo de Entrenamiento**"
      ],
      "metadata": {
        "id": "qp2GP0LAKxRB"
      }
    },
    {
      "cell_type": "markdown",
      "source": [
        "Utiliza un algoritmo de búsqueda greedy para determinar la estructura del modelo, es decir, el número y la ubicación de los puntos de inflexión o \"nudos\".\n",
        "Este proceso se realiza iterativamente, agregando o eliminando nudos y ajustando los coeficientes de las funciones lineales en cada iteración hasta que se alcance un criterio de parada.\n",
        "En general, el objetivo es minimizar una medida de error o de la función de costo para estimar los parámetros del modelo de manera precisa. Una vez que se ha determinado la estructura del modelo, los parámetros se pueden estimar mediante técnicas estándar de optimización.\n",
        "\n",
        "Estas técnicas incluyen:\n",
        "\n",
        "*Gradiente Descendente*: un método iterativo que utiliza la información sobre la dirección y la tasa de cambio de la función de costo para actualizar los parámetros de manera eficiente.\n",
        "\n",
        "*Métodos Quasi-Newtonianos*: técnicas que utilizan una aproximación de la matriz Hessiana de la función de costo para mejorar la convergencia y la eficiencia en comparación con el gradiente descendente.\n",
        "\n",
        "*Métodos de Optimización Convexa*: técnicas diseñadas para modelos de optimización convexa, donde la función de costo es convexa y garantiza un único mínimo global.\n",
        "\n",
        "Estos métodos se pueden elegir en función de las características del problema y los requisitos de precisión y velocidad de la optimización."
      ],
      "metadata": {
        "id": "LGIhc1MTLRQg"
      }
    },
    {
      "cell_type": "markdown",
      "source": [
        "### **Supuestos y Restricciones**"
      ],
      "metadata": {
        "id": "Hqu1LhgGK0th"
      }
    },
    {
      "cell_type": "markdown",
      "source": [
        "No hay supuestos explícitos sobre la forma de la relación entre la variable dependiente y las variables independientes en la regresión MARS.\n",
        "\n",
        "Sin embargo, hay algunos supuestos implícitos que deben cumplirse para obtener resultados confiables y precisos con la regresión MARS:\n",
        "\n",
        "*Independencia de las Observaciones*: se supone que las observaciones son independientes entre sí.\n",
        "\n",
        "*Linearidad de las Funciones de los Trozos*: se supone que las funciones lineales en los trozos son lineales. Si la relación entre las variables es no lineal, puede ser necesario agregar más trozos o utilizar una técnica de regresión no lineal.\n",
        "\n",
        "*Normalidad de las Residuos*: se supone que los residuos siguen una distribución normal."
      ],
      "metadata": {
        "id": "w-_CfsldLRwI"
      }
    },
    {
      "cell_type": "markdown",
      "source": [
        "### **Tests**"
      ],
      "metadata": {
        "id": "do59d8GMLN-o"
      }
    },
    {
      "cell_type": "markdown",
      "source": [
        "*Test de Normalidad de los Residuos*: Para verificar si los residuos siguen una distribución normal, lo que es un supuesto implícito en la regresión MARS.\n",
        "\n",
        "*Test de Homocedasticidad*: Para verificar si la varianza de los residuos es constante a lo largo de todo el rango de las variables independientes.\n",
        "\n",
        "*Test de Autocorrelación*: Para verificar si existe una correlación entre los residuos a lo largo del tiempo o en función de otras variables independientes.\n",
        "\n",
        "*Pruebas de Significancia de los Coeficientes*: se utilizan para determinar si los coeficientes del modelo son significativos y si aportan información útil a la predicción de la variable dependiente.\n",
        "\n",
        "*Evaluación de la Bondad del Ajuste*: se utiliza para evaluar la precisión y el rendimiento del modelo. Algunas métricas comunes incluyen el coeficiente de determinación (R^2), la raíz media del error cuadrático (RMSE) y el índice de información de Akaike (AIC)."
      ],
      "metadata": {
        "id": "EjOnIolTWTnx"
      }
    },
    {
      "cell_type": "markdown",
      "source": [
        "### **Código**"
      ],
      "metadata": {
        "id": "HnrMpurULSL4"
      }
    },
    {
      "cell_type": "code",
      "source": [
        "!pip install git+https://github.com/scikit-learn-contrib/py-earth@v0.2dev"
      ],
      "metadata": {
        "colab": {
          "base_uri": "https://localhost:8080/"
        },
        "id": "PQbW9nERyKRG",
        "outputId": "a51e00eb-b6d4-4f0b-b70a-b527d945e229"
      },
      "execution_count": null,
      "outputs": [
        {
          "output_type": "stream",
          "name": "stdout",
          "text": [
            "Looking in indexes: https://pypi.org/simple, https://us-python.pkg.dev/colab-wheels/public/simple/\n",
            "Collecting git+https://github.com/scikit-learn-contrib/py-earth@v0.2dev\n",
            "  Cloning https://github.com/scikit-learn-contrib/py-earth (to revision v0.2dev) to /tmp/pip-req-build-ccnogk6l\n",
            "  Running command git clone --filter=blob:none --quiet https://github.com/scikit-learn-contrib/py-earth /tmp/pip-req-build-ccnogk6l\n",
            "  Running command git checkout -b v0.2dev --track origin/v0.2dev\n",
            "  Switched to a new branch 'v0.2dev'\n",
            "  Branch 'v0.2dev' set up to track remote branch 'v0.2dev' from 'origin'.\n",
            "  Resolved https://github.com/scikit-learn-contrib/py-earth to commit 400f84d435b7277124535c09ca32132c1d0eaa74\n",
            "  Preparing metadata (setup.py) ... \u001b[?25l\u001b[?25hdone\n",
            "Requirement already satisfied: scipy>=0.16 in /usr/local/lib/python3.8/dist-packages (from sklearn-contrib-py-earth==0.1.0+16.g400f84d) (1.7.3)\n",
            "Requirement already satisfied: scikit-learn>=0.16 in /usr/local/lib/python3.8/dist-packages (from sklearn-contrib-py-earth==0.1.0+16.g400f84d) (1.0.2)\n",
            "Requirement already satisfied: six in /usr/local/lib/python3.8/dist-packages (from sklearn-contrib-py-earth==0.1.0+16.g400f84d) (1.15.0)\n",
            "Requirement already satisfied: threadpoolctl>=2.0.0 in /usr/local/lib/python3.8/dist-packages (from scikit-learn>=0.16->sklearn-contrib-py-earth==0.1.0+16.g400f84d) (3.1.0)\n",
            "Requirement already satisfied: numpy>=1.14.6 in /usr/local/lib/python3.8/dist-packages (from scikit-learn>=0.16->sklearn-contrib-py-earth==0.1.0+16.g400f84d) (1.21.6)\n",
            "Requirement already satisfied: joblib>=0.11 in /usr/local/lib/python3.8/dist-packages (from scikit-learn>=0.16->sklearn-contrib-py-earth==0.1.0+16.g400f84d) (1.2.0)\n",
            "Building wheels for collected packages: sklearn-contrib-py-earth\n",
            "  Building wheel for sklearn-contrib-py-earth (setup.py) ... \u001b[?25l\u001b[?25hdone\n",
            "  Created wheel for sklearn-contrib-py-earth: filename=sklearn_contrib_py_earth-0.1.0+16.g400f84d-cp38-cp38-linux_x86_64.whl size=5810321 sha256=2c598bcd40cc0291ccea26a132a074648f9b589a6d358d9c12a3e90bf204c155\n",
            "  Stored in directory: /tmp/pip-ephem-wheel-cache-2_igut9f/wheels/8a/33/e4/b577aeaf3435222ffd76339bd728390afc103237af5cc8064e\n",
            "Successfully built sklearn-contrib-py-earth\n",
            "Installing collected packages: sklearn-contrib-py-earth\n",
            "Successfully installed sklearn-contrib-py-earth-0.1.0+16.g400f84d\n"
          ]
        }
      ]
    },
    {
      "cell_type": "code",
      "source": [
        "import pandas as pd\n",
        "import numpy as np\n",
        "import plotly.graph_objects as go\n",
        "import plotly.express as px\n",
        "from pyearth import Earth # MARS model"
      ],
      "metadata": {
        "id": "5-YVGUKMxygu"
      },
      "execution_count": null,
      "outputs": []
    },
    {
      "cell_type": "code",
      "source": [
        "df = pd.read_csv('Real estate.csv')"
      ],
      "metadata": {
        "id": "JDU2qz7Gz7MA"
      },
      "execution_count": null,
      "outputs": []
    },
    {
      "cell_type": "code",
      "source": [
        "X=df['X3 distance to the nearest MRT station'].values.reshape(-1,1)\n",
        "y=df['Y house price of unit area'].values\n",
        "\n",
        "model = Earth(max_terms=500, max_degree=1)\n",
        "MARS = model.fit(X, y)\n",
        "print(MARS.summary())"
      ],
      "metadata": {
        "colab": {
          "base_uri": "https://localhost:8080/"
        },
        "id": "6v5mC2ixz_sw",
        "outputId": "a8d6d01d-47ff-45c5-f5f4-c44d90a96e50"
      },
      "execution_count": null,
      "outputs": [
        {
          "output_type": "stream",
          "name": "stdout",
          "text": [
            "Earth Model\n",
            "-------------------------------------\n",
            "Basis Function  Pruned  Coefficient  \n",
            "-------------------------------------\n",
            "(Intercept)     No      52.5753      \n",
            "h(x0-1146.33)   No      0.0184597    \n",
            "h(1146.33-x0)   Yes     None         \n",
            "x0              No      -0.0211567   \n",
            "-------------------------------------\n",
            "MSE: 79.1935, GCV: 81.5398, RSQ: 0.5712, GRSQ: 0.5606\n"
          ]
        }
      ]
    },
    {
      "cell_type": "code",
      "source": [
        "x_mars = np.array([X.min(), 1000, 1146.33, 2000, 3000, 4000, 5000, 6000, X.max()])\n",
        "y_mars = model.predict(x_mars.reshape(-1, 1))\n",
        "\n",
        "fig = px.scatter(df, x=df['X3 distance to the nearest MRT station'], y=df['Y house price of unit area'],\n",
        "                 opacity=0.8, color_discrete_sequence=['black'])\n",
        "\n",
        "fig.add_traces(go.Scatter(x=x_mars, y=y_mars, name='MARS', line=dict(color='blue')))\n",
        "\n",
        "fig.update_traces(marker=dict(size=3))\n",
        "\n",
        "fig.show()"
      ],
      "metadata": {
        "colab": {
          "base_uri": "https://localhost:8080/",
          "height": 542
        },
        "id": "1bNCi5tQ0Lq4",
        "outputId": "7cdf1126-42d8-4a64-d5fa-f62f46090086"
      },
      "execution_count": null,
      "outputs": [
        {
          "output_type": "display_data",
          "data": {
            "text/html": [
              "<html>\n",
              "<head><meta charset=\"utf-8\" /></head>\n",
              "<body>\n",
              "    <div>            <script src=\"https://cdnjs.cloudflare.com/ajax/libs/mathjax/2.7.5/MathJax.js?config=TeX-AMS-MML_SVG\"></script><script type=\"text/javascript\">if (window.MathJax) {MathJax.Hub.Config({SVG: {font: \"STIX-Web\"}});}</script>                <script type=\"text/javascript\">window.PlotlyConfig = {MathJaxConfig: 'local'};</script>\n",
              "        <script src=\"https://cdn.plot.ly/plotly-2.8.3.min.js\"></script>                <div id=\"2c3d9e5c-97ea-4998-a077-e62f2ff5a14e\" class=\"plotly-graph-div\" style=\"height:525px; width:100%;\"></div>            <script type=\"text/javascript\">                                    window.PLOTLYENV=window.PLOTLYENV || {};                                    if (document.getElementById(\"2c3d9e5c-97ea-4998-a077-e62f2ff5a14e\")) {                    Plotly.newPlot(                        \"2c3d9e5c-97ea-4998-a077-e62f2ff5a14e\",                        [{\"hovertemplate\":\"X3 distance to the nearest MRT station=%{x}<br>Y house price of unit area=%{y}<extra></extra>\",\"legendgroup\":\"\",\"marker\":{\"color\":\"black\",\"opacity\":0.8,\"symbol\":\"circle\",\"size\":3},\"mode\":\"markers\",\"name\":\"\",\"orientation\":\"v\",\"showlegend\":false,\"x\":[84.87882,306.5947,561.9845,561.9845,390.5684,2175.03,623.4731,287.6025,5512.038,1783.18,405.2134,90.45606,492.2313,2469.645,1164.838,579.2083,292.9978,350.8515,368.1363,23.38284,2275.877,279.1726,1360.139,279.1726,480.6977,1487.868,383.8624,276.449,557.478,451.2438,4519.69,769.4034,488.5727,323.655,205.367,4079.418,1935.009,1360.139,577.9615,289.3248,4082.015,4066.587,519.4617,512.7871,533.4762,488.8193,463.9623,640.7391,4605.749,4510.359,512.5487,1758.406,1438.579,492.2313,289.3248,1160.632,371.2495,56.47425,4510.359,336.0532,1931.207,259.6607,2175.877,533.4762,995.7554,123.7429,193.5845,104.8101,464.223,561.9845,90.45606,640.7391,424.5442,4082.015,379.5575,1360.139,616.4004,2185.128,552.4371,1414.837,533.4762,377.7956,150.9347,2707.392,383.2805,338.9679,1455.798,4066.587,1406.43,3947.945,274.0144,1402.016,2469.645,1146.329,167.5989,104.8101,90.45606,617.4424,289.3248,90.45606,964.7496,170.1289,193.5845,208.3905,392.4459,292.9978,189.5181,1360.139,592.5006,2147.376,104.8101,196.6172,2102.427,393.2606,143.8383,737.9161,6396.283,4197.349,1583.722,289.3248,492.2313,492.2313,414.9476,185.4296,279.1726,193.5845,804.6897,383.8624,124.9912,216.8329,535.527,2147.376,482.7581,373.3937,186.9686,1009.235,390.5684,319.0708,942.4664,492.2313,289.3248,1559.827,640.6071,492.2313,1360.139,451.2438,185.4296,489.8821,3780.59,179.4538,170.7311,387.7721,1360.139,376.1709,4066.587,4082.015,1264.73,815.9314,390.5684,815.9314,49.66105,616.4004,4066.587,104.8101,185.4296,1236.564,292.9978,330.0854,515.1122,1962.628,4527.687,383.8624,90.45606,401.8807,432.0385,472.1745,4573.779,181.0766,1144.436,438.8513,4449.27,201.8939,2147.376,4082.015,2615.465,1447.286,2185.128,3078.176,190.0392,4066.587,616.5735,750.0704,57.58945,421.479,3771.895,461.1016,707.9067,126.7286,157.6052,451.6419,995.7554,561.9845,642.6985,289.3248,1414.837,1449.722,379.5575,665.0636,1360.139,175.6294,390.5684,274.0144,1805.665,90.45606,1783.18,383.7129,590.9292,372.6242,492.2313,529.7771,186.5101,1402.016,431.1114,1402.016,324.9419,193.5845,4082.015,265.0609,3171.329,1156.412,2147.376,4074.736,4412.765,333.3679,2216.612,250.631,373.8389,732.8528,732.8528,837.7233,1712.632,250.631,2077.39,204.1705,1559.827,639.6198,389.8219,1055.067,1009.235,6306.153,424.7132,1159.454,90.45606,1735.595,329.9747,5512.038,339.2289,444.1334,292.9978,837.7233,1485.097,2288.011,289.3248,2147.376,493.657,815.9314,1783.18,482.7581,390.5684,837.7233,252.5822,451.6419,492.2313,170.1289,394.0173,23.38284,461.1016,2185.128,208.3905,1554.25,184.3302,387.7721,1455.798,1978.671,383.2805,718.2937,90.45606,461.1016,323.6912,289.3248,490.3446,56.47425,395.6747,383.2805,335.5273,2179.59,1144.436,567.0349,4082.015,121.7262,156.2442,461.7848,2288.011,439.7105,1626.083,289.3248,169.9803,3079.89,289.3248,1264.73,1643.499,537.7971,318.5292,104.8101,577.9615,1756.411,250.631,752.7669,379.5575,272.6783,4197.349,964.7496,187.4823,197.1338,1712.632,488.8193,56.47425,757.3377,1497.713,4197.349,1156.777,4519.69,617.7134,104.8101,1013.341,337.6016,1867.233,600.8604,258.186,329.9747,270.8895,750.0704,90.45606,563.2854,3085.17,185.4296,1712.632,6488.021,259.6607,104.8101,492.2313,2180.245,2674.961,2147.376,1360.139,383.8624,211.4473,338.9679,193.5845,2408.993,87.30222,281.205,967.4,109.9455,614.1394,2261.432,1801.544,1828.319,350.8515,2185.128,289.3248,312.8963,157.6052,274.0144,390.5684,1157.988,1717.193,49.66105,587.8877,292.9978,289.3248,132.5469,3529.564,506.1144,4066.587,82.88643,185.4296,2103.555,2251.938,122.3619,377.8302,1939.749,443.802,967.4,4136.271,512.5487,918.6357,1164.838,1717.193,170.1289,482.7581,2175.03,187.4823,161.942,289.3248,130.9945,372.1386,2408.993,2175.744,4082.015,90.45606,390.9696,104.8101,90.45606],\"xaxis\":\"x\",\"y\":[37.9,42.2,47.3,54.8,43.1,32.1,40.3,46.7,18.8,22.1,41.4,58.1,39.3,23.8,34.3,50.5,70.1,37.4,42.3,47.7,29.3,51.6,24.6,47.9,38.8,27.0,56.2,33.6,47.0,57.1,22.1,25.0,34.2,49.3,55.1,27.3,22.9,25.3,47.7,46.2,15.9,18.2,34.7,34.1,53.9,38.3,42.0,61.5,13.4,13.2,44.2,20.7,27.0,38.9,51.7,13.7,41.9,53.5,22.6,42.4,21.3,63.2,27.7,55.0,25.3,44.3,50.7,56.8,36.2,42.0,59.0,40.8,36.3,20.0,54.4,29.5,36.8,25.6,29.8,26.5,40.3,36.8,48.1,17.7,43.7,50.8,27.0,18.3,48.0,25.3,45.4,43.2,21.8,16.1,41.0,51.8,59.5,34.6,51.0,62.2,38.2,32.9,54.4,45.7,30.5,71.0,47.1,26.6,34.1,28.4,51.6,39.4,23.1,7.6,53.3,46.4,12.2,13.0,30.6,59.6,31.3,48.0,32.5,45.5,57.4,48.6,62.9,55.0,60.7,41.0,37.5,30.7,37.5,39.5,42.2,20.8,46.8,47.4,43.5,42.5,51.4,28.9,37.5,40.1,28.4,45.5,52.2,43.2,45.1,39.7,48.5,44.7,28.9,40.9,20.7,15.6,18.3,35.6,39.4,37.4,57.8,39.6,11.6,55.5,55.2,30.6,73.6,43.4,37.4,23.5,14.4,58.8,58.1,35.1,45.2,36.5,19.2,42.0,36.7,42.6,15.5,55.9,23.6,18.8,21.8,21.5,25.7,22.0,44.3,20.5,42.3,37.8,42.7,49.3,29.3,34.6,36.6,48.2,39.1,31.6,25.5,45.9,31.5,46.1,26.6,21.4,44.0,34.2,26.2,40.9,52.2,43.5,31.1,58.0,20.9,48.1,39.7,40.8,43.8,40.2,78.3,38.5,48.5,42.3,46.0,49.0,12.8,40.2,46.6,19.0,33.4,14.7,17.4,32.4,23.9,39.3,61.9,39.0,40.6,29.7,28.8,41.4,33.4,48.2,21.7,40.8,40.6,23.1,22.3,15.0,30.0,13.8,52.7,25.9,51.8,17.4,26.5,43.9,63.3,28.8,30.7,24.4,53.0,31.7,40.6,38.1,23.7,41.1,40.1,23.0,117.5,26.5,40.5,29.3,41.0,49.7,34.0,27.7,44.0,31.1,45.4,44.8,25.6,23.5,34.4,55.3,56.3,32.9,51.0,44.5,37.0,54.4,24.5,42.5,38.1,21.8,34.1,28.5,16.7,46.1,36.9,35.7,23.2,38.4,29.4,55.0,50.2,24.7,53.0,19.1,24.7,42.2,78.0,42.8,41.6,27.3,42.0,37.5,49.8,26.9,18.6,37.7,33.1,42.5,31.3,38.1,62.1,36.7,23.6,19.2,12.8,15.6,39.6,38.4,22.8,36.5,35.6,30.9,36.3,50.4,42.9,37.0,53.5,46.6,41.2,37.9,30.8,11.2,53.7,47.0,42.3,28.6,25.7,31.3,30.1,60.7,45.3,44.9,45.1,24.7,47.1,63.3,40.0,48.0,33.1,29.5,24.8,20.9,43.1,22.8,42.1,51.7,41.5,52.2,49.5,23.8,30.5,56.8,37.4,69.7,53.3,47.3,29.3,40.3,12.9,46.6,55.3,25.6,27.3,67.7,38.6,31.3,35.3,40.3,24.7,42.5,31.9,32.2,23.0,37.3,35.5,27.7,28.5,39.7,41.2,37.2,40.5,22.3,28.1,15.4,50.0,40.6,52.5,63.9],\"yaxis\":\"y\",\"type\":\"scatter\"},{\"line\":{\"color\":\"blue\"},\"name\":\"MARS\",\"x\":[23.38284,1000.0,1146.33,2000.0,3000.0,4000.0,5000.0,6000.0,6488.021],\"y\":[52.080629369582866,31.418662126575768,28.322825024330108,26.020495110405918,23.323516284953236,20.626537459500554,17.929558634047893,15.23257980859519,13.916397505218953],\"type\":\"scatter\",\"marker\":{\"size\":3}}],                        {\"template\":{\"data\":{\"bar\":[{\"error_x\":{\"color\":\"#2a3f5f\"},\"error_y\":{\"color\":\"#2a3f5f\"},\"marker\":{\"line\":{\"color\":\"#E5ECF6\",\"width\":0.5},\"pattern\":{\"fillmode\":\"overlay\",\"size\":10,\"solidity\":0.2}},\"type\":\"bar\"}],\"barpolar\":[{\"marker\":{\"line\":{\"color\":\"#E5ECF6\",\"width\":0.5},\"pattern\":{\"fillmode\":\"overlay\",\"size\":10,\"solidity\":0.2}},\"type\":\"barpolar\"}],\"carpet\":[{\"aaxis\":{\"endlinecolor\":\"#2a3f5f\",\"gridcolor\":\"white\",\"linecolor\":\"white\",\"minorgridcolor\":\"white\",\"startlinecolor\":\"#2a3f5f\"},\"baxis\":{\"endlinecolor\":\"#2a3f5f\",\"gridcolor\":\"white\",\"linecolor\":\"white\",\"minorgridcolor\":\"white\",\"startlinecolor\":\"#2a3f5f\"},\"type\":\"carpet\"}],\"choropleth\":[{\"colorbar\":{\"outlinewidth\":0,\"ticks\":\"\"},\"type\":\"choropleth\"}],\"contour\":[{\"colorbar\":{\"outlinewidth\":0,\"ticks\":\"\"},\"colorscale\":[[0.0,\"#0d0887\"],[0.1111111111111111,\"#46039f\"],[0.2222222222222222,\"#7201a8\"],[0.3333333333333333,\"#9c179e\"],[0.4444444444444444,\"#bd3786\"],[0.5555555555555556,\"#d8576b\"],[0.6666666666666666,\"#ed7953\"],[0.7777777777777778,\"#fb9f3a\"],[0.8888888888888888,\"#fdca26\"],[1.0,\"#f0f921\"]],\"type\":\"contour\"}],\"contourcarpet\":[{\"colorbar\":{\"outlinewidth\":0,\"ticks\":\"\"},\"type\":\"contourcarpet\"}],\"heatmap\":[{\"colorbar\":{\"outlinewidth\":0,\"ticks\":\"\"},\"colorscale\":[[0.0,\"#0d0887\"],[0.1111111111111111,\"#46039f\"],[0.2222222222222222,\"#7201a8\"],[0.3333333333333333,\"#9c179e\"],[0.4444444444444444,\"#bd3786\"],[0.5555555555555556,\"#d8576b\"],[0.6666666666666666,\"#ed7953\"],[0.7777777777777778,\"#fb9f3a\"],[0.8888888888888888,\"#fdca26\"],[1.0,\"#f0f921\"]],\"type\":\"heatmap\"}],\"heatmapgl\":[{\"colorbar\":{\"outlinewidth\":0,\"ticks\":\"\"},\"colorscale\":[[0.0,\"#0d0887\"],[0.1111111111111111,\"#46039f\"],[0.2222222222222222,\"#7201a8\"],[0.3333333333333333,\"#9c179e\"],[0.4444444444444444,\"#bd3786\"],[0.5555555555555556,\"#d8576b\"],[0.6666666666666666,\"#ed7953\"],[0.7777777777777778,\"#fb9f3a\"],[0.8888888888888888,\"#fdca26\"],[1.0,\"#f0f921\"]],\"type\":\"heatmapgl\"}],\"histogram\":[{\"marker\":{\"pattern\":{\"fillmode\":\"overlay\",\"size\":10,\"solidity\":0.2}},\"type\":\"histogram\"}],\"histogram2d\":[{\"colorbar\":{\"outlinewidth\":0,\"ticks\":\"\"},\"colorscale\":[[0.0,\"#0d0887\"],[0.1111111111111111,\"#46039f\"],[0.2222222222222222,\"#7201a8\"],[0.3333333333333333,\"#9c179e\"],[0.4444444444444444,\"#bd3786\"],[0.5555555555555556,\"#d8576b\"],[0.6666666666666666,\"#ed7953\"],[0.7777777777777778,\"#fb9f3a\"],[0.8888888888888888,\"#fdca26\"],[1.0,\"#f0f921\"]],\"type\":\"histogram2d\"}],\"histogram2dcontour\":[{\"colorbar\":{\"outlinewidth\":0,\"ticks\":\"\"},\"colorscale\":[[0.0,\"#0d0887\"],[0.1111111111111111,\"#46039f\"],[0.2222222222222222,\"#7201a8\"],[0.3333333333333333,\"#9c179e\"],[0.4444444444444444,\"#bd3786\"],[0.5555555555555556,\"#d8576b\"],[0.6666666666666666,\"#ed7953\"],[0.7777777777777778,\"#fb9f3a\"],[0.8888888888888888,\"#fdca26\"],[1.0,\"#f0f921\"]],\"type\":\"histogram2dcontour\"}],\"mesh3d\":[{\"colorbar\":{\"outlinewidth\":0,\"ticks\":\"\"},\"type\":\"mesh3d\"}],\"parcoords\":[{\"line\":{\"colorbar\":{\"outlinewidth\":0,\"ticks\":\"\"}},\"type\":\"parcoords\"}],\"pie\":[{\"automargin\":true,\"type\":\"pie\"}],\"scatter\":[{\"marker\":{\"colorbar\":{\"outlinewidth\":0,\"ticks\":\"\"}},\"type\":\"scatter\"}],\"scatter3d\":[{\"line\":{\"colorbar\":{\"outlinewidth\":0,\"ticks\":\"\"}},\"marker\":{\"colorbar\":{\"outlinewidth\":0,\"ticks\":\"\"}},\"type\":\"scatter3d\"}],\"scattercarpet\":[{\"marker\":{\"colorbar\":{\"outlinewidth\":0,\"ticks\":\"\"}},\"type\":\"scattercarpet\"}],\"scattergeo\":[{\"marker\":{\"colorbar\":{\"outlinewidth\":0,\"ticks\":\"\"}},\"type\":\"scattergeo\"}],\"scattergl\":[{\"marker\":{\"colorbar\":{\"outlinewidth\":0,\"ticks\":\"\"}},\"type\":\"scattergl\"}],\"scattermapbox\":[{\"marker\":{\"colorbar\":{\"outlinewidth\":0,\"ticks\":\"\"}},\"type\":\"scattermapbox\"}],\"scatterpolar\":[{\"marker\":{\"colorbar\":{\"outlinewidth\":0,\"ticks\":\"\"}},\"type\":\"scatterpolar\"}],\"scatterpolargl\":[{\"marker\":{\"colorbar\":{\"outlinewidth\":0,\"ticks\":\"\"}},\"type\":\"scatterpolargl\"}],\"scatterternary\":[{\"marker\":{\"colorbar\":{\"outlinewidth\":0,\"ticks\":\"\"}},\"type\":\"scatterternary\"}],\"surface\":[{\"colorbar\":{\"outlinewidth\":0,\"ticks\":\"\"},\"colorscale\":[[0.0,\"#0d0887\"],[0.1111111111111111,\"#46039f\"],[0.2222222222222222,\"#7201a8\"],[0.3333333333333333,\"#9c179e\"],[0.4444444444444444,\"#bd3786\"],[0.5555555555555556,\"#d8576b\"],[0.6666666666666666,\"#ed7953\"],[0.7777777777777778,\"#fb9f3a\"],[0.8888888888888888,\"#fdca26\"],[1.0,\"#f0f921\"]],\"type\":\"surface\"}],\"table\":[{\"cells\":{\"fill\":{\"color\":\"#EBF0F8\"},\"line\":{\"color\":\"white\"}},\"header\":{\"fill\":{\"color\":\"#C8D4E3\"},\"line\":{\"color\":\"white\"}},\"type\":\"table\"}]},\"layout\":{\"annotationdefaults\":{\"arrowcolor\":\"#2a3f5f\",\"arrowhead\":0,\"arrowwidth\":1},\"autotypenumbers\":\"strict\",\"coloraxis\":{\"colorbar\":{\"outlinewidth\":0,\"ticks\":\"\"}},\"colorscale\":{\"diverging\":[[0,\"#8e0152\"],[0.1,\"#c51b7d\"],[0.2,\"#de77ae\"],[0.3,\"#f1b6da\"],[0.4,\"#fde0ef\"],[0.5,\"#f7f7f7\"],[0.6,\"#e6f5d0\"],[0.7,\"#b8e186\"],[0.8,\"#7fbc41\"],[0.9,\"#4d9221\"],[1,\"#276419\"]],\"sequential\":[[0.0,\"#0d0887\"],[0.1111111111111111,\"#46039f\"],[0.2222222222222222,\"#7201a8\"],[0.3333333333333333,\"#9c179e\"],[0.4444444444444444,\"#bd3786\"],[0.5555555555555556,\"#d8576b\"],[0.6666666666666666,\"#ed7953\"],[0.7777777777777778,\"#fb9f3a\"],[0.8888888888888888,\"#fdca26\"],[1.0,\"#f0f921\"]],\"sequentialminus\":[[0.0,\"#0d0887\"],[0.1111111111111111,\"#46039f\"],[0.2222222222222222,\"#7201a8\"],[0.3333333333333333,\"#9c179e\"],[0.4444444444444444,\"#bd3786\"],[0.5555555555555556,\"#d8576b\"],[0.6666666666666666,\"#ed7953\"],[0.7777777777777778,\"#fb9f3a\"],[0.8888888888888888,\"#fdca26\"],[1.0,\"#f0f921\"]]},\"colorway\":[\"#636efa\",\"#EF553B\",\"#00cc96\",\"#ab63fa\",\"#FFA15A\",\"#19d3f3\",\"#FF6692\",\"#B6E880\",\"#FF97FF\",\"#FECB52\"],\"font\":{\"color\":\"#2a3f5f\"},\"geo\":{\"bgcolor\":\"white\",\"lakecolor\":\"white\",\"landcolor\":\"#E5ECF6\",\"showlakes\":true,\"showland\":true,\"subunitcolor\":\"white\"},\"hoverlabel\":{\"align\":\"left\"},\"hovermode\":\"closest\",\"mapbox\":{\"style\":\"light\"},\"paper_bgcolor\":\"white\",\"plot_bgcolor\":\"#E5ECF6\",\"polar\":{\"angularaxis\":{\"gridcolor\":\"white\",\"linecolor\":\"white\",\"ticks\":\"\"},\"bgcolor\":\"#E5ECF6\",\"radialaxis\":{\"gridcolor\":\"white\",\"linecolor\":\"white\",\"ticks\":\"\"}},\"scene\":{\"xaxis\":{\"backgroundcolor\":\"#E5ECF6\",\"gridcolor\":\"white\",\"gridwidth\":2,\"linecolor\":\"white\",\"showbackground\":true,\"ticks\":\"\",\"zerolinecolor\":\"white\"},\"yaxis\":{\"backgroundcolor\":\"#E5ECF6\",\"gridcolor\":\"white\",\"gridwidth\":2,\"linecolor\":\"white\",\"showbackground\":true,\"ticks\":\"\",\"zerolinecolor\":\"white\"},\"zaxis\":{\"backgroundcolor\":\"#E5ECF6\",\"gridcolor\":\"white\",\"gridwidth\":2,\"linecolor\":\"white\",\"showbackground\":true,\"ticks\":\"\",\"zerolinecolor\":\"white\"}},\"shapedefaults\":{\"line\":{\"color\":\"#2a3f5f\"}},\"ternary\":{\"aaxis\":{\"gridcolor\":\"white\",\"linecolor\":\"white\",\"ticks\":\"\"},\"baxis\":{\"gridcolor\":\"white\",\"linecolor\":\"white\",\"ticks\":\"\"},\"bgcolor\":\"#E5ECF6\",\"caxis\":{\"gridcolor\":\"white\",\"linecolor\":\"white\",\"ticks\":\"\"}},\"title\":{\"x\":0.05},\"xaxis\":{\"automargin\":true,\"gridcolor\":\"white\",\"linecolor\":\"white\",\"ticks\":\"\",\"title\":{\"standoff\":15},\"zerolinecolor\":\"white\",\"zerolinewidth\":2},\"yaxis\":{\"automargin\":true,\"gridcolor\":\"white\",\"linecolor\":\"white\",\"ticks\":\"\",\"title\":{\"standoff\":15},\"zerolinecolor\":\"white\",\"zerolinewidth\":2}}},\"xaxis\":{\"anchor\":\"y\",\"domain\":[0.0,1.0],\"title\":{\"text\":\"X3 distance to the nearest MRT station\"}},\"yaxis\":{\"anchor\":\"x\",\"domain\":[0.0,1.0],\"title\":{\"text\":\"Y house price of unit area\"}},\"legend\":{\"tracegroupgap\":0},\"margin\":{\"t\":60}},                        {\"responsive\": true}                    ).then(function(){\n",
              "                            \n",
              "var gd = document.getElementById('2c3d9e5c-97ea-4998-a077-e62f2ff5a14e');\n",
              "var x = new MutationObserver(function (mutations, observer) {{\n",
              "        var display = window.getComputedStyle(gd).display;\n",
              "        if (!display || display === 'none') {{\n",
              "            console.log([gd, 'removed!']);\n",
              "            Plotly.purge(gd);\n",
              "            observer.disconnect();\n",
              "        }}\n",
              "}});\n",
              "\n",
              "// Listen for the removal of the full notebook cells\n",
              "var notebookContainer = gd.closest('#notebook-container');\n",
              "if (notebookContainer) {{\n",
              "    x.observe(notebookContainer, {childList: true});\n",
              "}}\n",
              "\n",
              "// Listen for the clearing of the current output cell\n",
              "var outputEl = gd.closest('.output');\n",
              "if (outputEl) {{\n",
              "    x.observe(outputEl, {childList: true});\n",
              "}}\n",
              "\n",
              "                        })                };                            </script>        </div>\n",
              "</body>\n",
              "</html>"
            ]
          },
          "metadata": {}
        }
      ]
    },
    {
      "cell_type": "markdown",
      "source": [
        "# **6.Locally Stimated Scatterplot Smotthing**"
      ],
      "metadata": {
        "id": "dJIYjKXGq_KE"
      }
    },
    {
      "cell_type": "markdown",
      "source": [
        "### **Descripción**\n",
        "\n",
        "```\n",
        "What is Locally Stimated Scatterplot Smotthing?\n",
        "```"
      ],
      "metadata": {
        "id": "PGcVqGuprDRd"
      }
    },
    {
      "cell_type": "markdown",
      "source": [
        "Locally estimated scatterplot smoothing (LOESS) es una técnica de regresión no paramétrica utilizada para ajustar una curva suave a una nube de puntos de datos. LOESS se utiliza a menudo para suavizar las fluctuaciones en una nube de puntos para hacerlo más fácil de visualizar patrones y tendencias en los datos.\n",
        "\n",
        "El método funciona mediante el ajuste local de modelos de regresión simples, como modelos lineales o polinómicos, a subconjuntos de los datos para capturar los patrones subyacentes en los datos. Estos modelos locales se combinan para crear una curva suave que se ajusta a la nube de puntos completa.\n",
        "\n",
        "La ventaja clave de LOESS es que es altamente flexible y puede manejar relaciones no lineales en los datos, por lo que es adecuado para conjuntos de datos con patrones complejos. LOESS también es computacionalmente eficiente y se puede aplicar a grandes conjuntos de datos.\n",
        "\n",
        "LOESS es comúnmente utilizado en áreas como estadísticas, econometría y bioinformática para la visualización de datos y el análisis exploratorio de datos. También es un método popular para suavizar datos en aplicaciones científicas y de ingeniería."
      ],
      "metadata": {
        "id": "1kJM5hpFrDUE"
      }
    },
    {
      "cell_type": "markdown",
      "source": [
        "### **Bibtex y referencias**\n",
        "```\n",
        "Who wrote the first paper related to Locally Stimated Scatterplot Smotthing?\n",
        "```"
      ],
      "metadata": {
        "id": "jPpQMbsIrDWd"
      }
    },
    {
      "cell_type": "markdown",
      "source": [
        "El primer artículo relacionado con Locally Estimated Scatterplot Smoothing (LOESS) fue publicado por Cleveland en 1979. El artículo, titulado \"Robust Locally Weighted Regression and Smoothing Scatterplots\", introdujo el método LOESS y demostró su efectividad para suavizar nubes de puntos de datos.\n",
        "\n",
        "El artículo de Cleveland ha sido ampliamente citado y sigue siendo un trabajo influyente en el campo de la regresión no paramétrica y la visualización de datos. El método LOESS se ha convertido en una herramienta estándar en muchas áreas del análisis de datos, incluyendo estadísticas, econometría y bioinformática."
      ],
      "metadata": {
        "id": "htEdqeZXrDY1"
      }
    },
    {
      "cell_type": "markdown",
      "source": [
        "```\n",
        "@article{cleveland1979robust,\n",
        "  title={Robust locally weighted regression and smoothing scatterplots},\n",
        "  author={Cleveland, William S},\n",
        "  journal={Journal of the American statistical association},\n",
        "  volume={74},\n",
        "  number={368},\n",
        "  pages={829--836},\n",
        "  year={1979},\n",
        "  publisher={Taylor \\& Francis}\n",
        "}\n",
        "```"
      ],
      "metadata": {
        "id": "Jw7huhUyrPFM"
      }
    },
    {
      "cell_type": "markdown",
      "source": [
        "### **Tipo de Modelo**"
      ],
      "metadata": {
        "id": "exOLV7FLrSHk"
      }
    },
    {
      "cell_type": "markdown",
      "source": [
        "`Que tipo de modelo es  Locally Estimated Scatterplot Smoothing (LOESS)?`\n",
        "\n",
        "Locally Estimated Scatterplot Smoothing (LOESS) es un modelo de regresión no paramétrica. La regresión no paramétrica es una técnica de modelado en la que no se asume una forma específica para la relación entre las variables. En cambio, la técnica utiliza un enfoque más flexible para ajustar una curva suave a los datos.\n",
        "\n",
        "El método LOESS se basa en la idea de calcular modelos de regresión locales para subconjuntos de los datos, y combinar estos modelos para crear una curva suave que se ajusta a la nube de puntos completa. Este enfoque flexible permite que LOESS maneje relaciones complejas y no lineales en los datos, por lo que es una buena opción para conjuntos de datos con patrones complejos.\n",
        "\n",
        "LOESS es un modelo no paramétrico, ya que no asume una forma específica para la relación entre las variables, y se utiliza principalmente para visualizar datos y para el análisis exploratorio de datos.\n"
      ],
      "metadata": {
        "id": "BtZZ_KfbrSKT"
      }
    },
    {
      "cell_type": "markdown",
      "source": [
        "### **Limitaciones, supuestos y restricciones**"
      ],
      "metadata": {
        "id": "j55ogqpurSMs"
      }
    },
    {
      "cell_type": "markdown",
      "source": [
        "`What are the limitations and restrictions of Locally Estimated Scatterplot Smoothing (LOESS)?`"
      ],
      "metadata": {
        "id": "gKGPmUERrdYk"
      }
    },
    {
      "cell_type": "markdown",
      "source": [
        "Hay varias limitaciones y restricciones asociadas con Locally Estimated Scatterplot Smoothing (LOESS):\n",
        "\n",
        "Complejidad computacional: LOESS es un método intensivo en computación y puede ser lento cuando se aplica a grandes conjuntos de datos.\n",
        "\n",
        "Sobreajuste: Al igual que muchas otras técnicas de suavizado, LOESS puede llevar a un sobreajuste de los datos, especialmente cuando se establece el parámetro de suavizado demasiado alto.\n",
        "\n",
        "Naturaleza local: LOESS es un método local, lo que significa que solo tiene en cuenta los puntos de datos en la inmediata vecindad de cada valor previsto. Esto puede resultar en una pérdida de información global y puede no capturar adecuadamente las tendencias a largo plazo en los datos.\n",
        "\n",
        "Selección de modelos: La elección del parámetro de suavizado puede tener un impacto significativo en el modelo LOESS final, y no hay un método definitivo para seleccionar el mejor valor.\n",
        "\n",
        "Supuesto de independencia: LOESS supone que los errores en la variable respuesta son independientes y distribuidos de manera idéntica. Si esta suposición no se cumple, los resultados pueden estar sesgados.\n",
        "\n",
        "Robustez: LOESS es en general menos robusto que otros métodos de regresión, y puede ser sensible a valores atípicos y otras fuentes de ruido en los datos.\n",
        "\n",
        "A pesar de estas limitaciones, LOESS sigue siendo una herramienta popular y poderosa para visualizar y explorar relaciones en los datos, especialmente en casos en los que se requiere un enfoque más flexible."
      ],
      "metadata": {
        "id": "eIEuZwzOrdcT"
      }
    },
    {
      "cell_type": "markdown",
      "source": [
        "### **Código**"
      ],
      "metadata": {
        "id": "3BNLFMN5rdfD"
      }
    },
    {
      "cell_type": "code",
      "source": [
        "import numpy as np\n",
        "import matplotlib.pyplot as plt\n",
        "import statsmodels.api as sm\n",
        "\n",
        "# Generate example data\n",
        "np.random.seed(1)\n",
        "x = np.random.uniform(0, 1, 100)\n",
        "y = x + np.random.normal(0, 0.1, 100)\n",
        "\n",
        "# Fit LOESS model\n",
        "loess_model = sm.nonparametric.lowess(y, x, frac=0.3)\n",
        "\n",
        "# Plot data and LOESS model\n",
        "plt.scatter(x, y)\n",
        "plt.plot(loess_model[:, 0], loess_model[:, 1], 'r-')\n",
        "plt.show()"
      ],
      "metadata": {
        "id": "EiMM_4GfrBCs",
        "colab": {
          "base_uri": "https://localhost:8080/",
          "height": 265
        },
        "outputId": "43b9ae9e-f907-4793-f5e1-4dff2ea155b9"
      },
      "execution_count": null,
      "outputs": [
        {
          "output_type": "display_data",
          "data": {
            "text/plain": [
              "<Figure size 432x288 with 1 Axes>"
            ],
            "image/png": "[encoded data removed]"
          },
          "metadata": {
            "needs_background": "light"
          }
        }
      ]
    },
    {
      "cell_type": "markdown",
      "source": [
        "Este código genera un conjunto de datos de ejemplo x y y, luego ajusta un modelo LOESS con la función sm.nonparametric.lowess(). Finalmente, se usa la función plt.scatter() y plt.plot() de Matplotlib para crear un gráfico de los datos y la línea de ajuste LOESS."
      ],
      "metadata": {
        "id": "T0Z2GxoZrrRc"
      }
    },
    {
      "cell_type": "markdown",
      "source": [
        "\n",
        "# **Regularization**"
      ],
      "metadata": {
        "id": "b28ZBNH96q0d"
      }
    },
    {
      "cell_type": "markdown",
      "source": [
        "# **7. LASSO**\n"
      ],
      "metadata": {
        "id": "zTnXFLaPb8pQ"
      }
    },
    {
      "cell_type": "markdown",
      "source": [
        "### **Definición**"
      ],
      "metadata": {
        "id": "GAmhAyd0dwiX"
      }
    },
    {
      "cell_type": "markdown",
      "source": [
        "\n",
        "\n",
        "```\n",
        "What is LASSO regularization?\n",
        "```\n",
        "\n"
      ],
      "metadata": {
        "id": "lAQhXYRRjnep"
      }
    },
    {
      "cell_type": "markdown",
      "source": [
        "LASSO (Least Absolute Shrinkage and Selection Operator) es un tipo de método de regularización para la regresión lineal, similar a la regresión de Ridge. También se conoce como \"regularización L1\".\n",
        "\n",
        "Al igual que la regresión de Ridge, LASSO tiene como objetivo evitar el sobreajuste al agregar un término de penalización a la función objetivo de la regresión lineal. Sin embargo, **el término de penalización LASSO es la suma de los valores absolutos de los coeficientes, multiplicados por un parámetro de regularización lambda (λ)**, en lugar de la suma de los cuadrados de los coeficientes como en la regresión de Ridge.\n",
        "\n",
        "Matemáticamente, LASSO se puede representar por:\n",
        "minimizar (1/n) * Suma(y_i - (b0 + b1x1i + b2x2i + ... + bpxpi)^2) + λ(|b1| + |b2| + ... + |bp|)\n",
        "\n",
        "Aquí, x1i, x2i, ..., xpi son las variables independientes, yi es la variable dependiente, b0, b1, b2, ..., bp son los coeficientes y λ es el parámetro de regularización.\n",
        "\n",
        "Una de las diferencias clave entre la regresión Ridge y LASSO es que LASSO también puede realizar una selección de características. Debido a que la función de valor absoluto no es diferenciable en cero, LASSO puede hacer que algunos de los coeficientes se vuelvan exactamente cero. Esto significa que algunas de las variables independientes no son necesarias para explicar la variable dependiente y pueden eliminarse del modelo.\n",
        "\n",
        "Al igual que Ridge, LASSO también requería elegir cuidadosamente un valor lambda. **Un valor lambda más alto dará como resultado que se establezcan más coeficientes en cero y que se incluyan menos variables en el modelo, mientras que un valor lambda más bajo dará como resultado que se incluyan más variables en el modelo**."
      ],
      "metadata": {
        "id": "km8DsGDvdRVv"
      }
    },
    {
      "cell_type": "markdown",
      "source": [
        "### **Bibtex y referencias**\n"
      ],
      "metadata": {
        "id": "_lLdw9_YenaX"
      }
    },
    {
      "cell_type": "markdown",
      "source": [
        "\n",
        "\n",
        "```\n",
        "Who wrote the first paper related to LASSO regularization?\n",
        "```\n",
        "\n"
      ],
      "metadata": {
        "id": "JkPAo6HWkKqT"
      }
    },
    {
      "cell_type": "markdown",
      "source": [
        "El método LASSO (operador de selección y contracción mínima absoluta) fue introducido por primera vez por **Robert Tibshirani** en su artículo de **1996**, **\"Contracción y selección de regresión a través del lazo\"**. El artículo fue publicado en el Journal of the Royal Statistical Society, Serie B. En este artículo, Tibshirani propuso LASSO como un método para la regresión lineal que puede realizar simultáneamente la selección de variables y la reducción de los coeficientes. También proporcionó pruebas matemáticas de las propiedades de la solución LASSO y demostró su eficacia a través de simulaciones y ejemplos de datos del mundo real. El documento es ampliamente considerado como un trabajo seminal en el campo del aprendizaje estadístico y ha sido citado más de 20.000 veces.\n",
        "\n",
        "```\n",
        "@article{tibshirani1996regression,\n",
        "  title={Regression shrinkage and selection via the lasso},\n",
        "  author={Tibshirani, Robert},\n",
        "  journal={Journal of the Royal Statistical Society: Series B (Methodological)},\n",
        "  volume={58},\n",
        "  number={1},\n",
        "  pages={267--288},\n",
        "  year={1996},\n",
        "  publisher={Wiley Online Library}\n",
        "}\n",
        "```"
      ],
      "metadata": {
        "id": "ELbeMIV3MvGC"
      }
    },
    {
      "cell_type": "markdown",
      "source": [
        "### **Limitaciones, supuestos y restricciones**\n"
      ],
      "metadata": {
        "id": "sUbS1J9Al4Yy"
      }
    },
    {
      "cell_type": "markdown",
      "source": [
        "\n",
        "\n",
        "```\n",
        "What are the limitations and restrictions of LASSO regularization?\n",
        "```\n",
        "\n"
      ],
      "metadata": {
        "id": "QTMMKu8RmELQ"
      }
    },
    {
      "cell_type": "markdown",
      "source": [
        "Hay algunas limitaciones y restricciones de la regularización LASSO a tener en cuenta:\n",
        "\n",
        "* LASSO tiende a seleccionar solo una variable entre un grupo de variables altamente correlacionadas, lo que puede no proporcionar la mejor predicción general.\n",
        "\n",
        "* LASSO puede ser sensible a la elección del parámetro de regularización. La solución LASSO puede cambiar drásticamente a medida que varía el parámetro de regularización, lo que dificulta la elección de un valor óptimo.\n",
        "\n",
        "* LASSO puede no funcionar bien cuando el número de observaciones es menor que el número de predictores.\n",
        "\n",
        "* LASSO no es consistente para algunos modelos no lineales como la regresión logística.\n",
        "\n",
        "* LASSO no produce soluciones únicas para las estimaciones de coeficientes cuando los predictores están altamente correlacionados.\n",
        "\n",
        "* LASSO no funciona bien con variables categóricas y requiere ser transformado en dummies.\n",
        "\n",
        "* LASSO asume que los predictores son independientes y están distribuidos de manera idéntica, lo que puede no ser el caso en algunos problemas del mundo real.\n",
        "\n",
        "* LASSO no tiene en cuenta la incertidumbre de la selección de variables.\n",
        "\n",
        "Es importante tener en cuenta que LASSO no siempre es la mejor técnica de regularización para un problema determinado, y es importante probar diferentes métodos de regularización y evaluar su rendimiento para encontrar el mejor para el problema."
      ],
      "metadata": {
        "id": "p4izqEPvmI0Y"
      }
    },
    {
      "cell_type": "markdown",
      "source": [
        "## **Código Lasso**"
      ],
      "metadata": {
        "id": "wu5tjGSsfzDp"
      }
    },
    {
      "cell_type": "markdown",
      "source": [
        "*Hiperparámetros*"
      ],
      "metadata": {
        "id": "N1xXGc1OpNED"
      }
    },
    {
      "cell_type": "markdown",
      "source": [
        "**alpha**: Este hiperparámetro controla la fuerza de la regularización.\n",
        "\n",
        "**max_iter**: Este hiperparámetro indica el número máximo de iteraciones que se deben realizar para ajustar el modelo. Es recomendable utilizar un número más alto si se espera que el proceso de ajuste sea difícil."
      ],
      "metadata": {
        "id": "v5xrEiOuo_0K"
      }
    },
    {
      "cell_type": "code",
      "source": [
        "#lasso00001 = Lasso(alpha=0.0001, max_iter=100000).fit(X_train, y_train)\n",
        "#print(\"Training set score: {:.2f}\".format(lasso00001.score(X_train, y_train)))\n",
        "#print(\"Test set score: {:.2f}\".format(lasso00001.score(X_test, y_test)))\n",
        "#print(\"Number of features used:\", np.sum(lasso00001.coef_ != 0))"
      ],
      "metadata": {
        "id": "qx0MVNscfsK0"
      },
      "execution_count": null,
      "outputs": []
    },
    {
      "cell_type": "markdown",
      "source": [
        "***Se debe correr primero el codigo de Elastic Net"
      ],
      "metadata": {
        "id": "Oy3MTKbc4FBY"
      }
    },
    {
      "cell_type": "markdown",
      "source": [
        "# **8. Ridge Regression**\n"
      ],
      "metadata": {
        "id": "L_MdA18fbyXp"
      }
    },
    {
      "cell_type": "markdown",
      "source": [
        "### **Definición**"
      ],
      "metadata": {
        "id": "TNsk9D2Id56n"
      }
    },
    {
      "cell_type": "markdown",
      "source": [
        "\n",
        "\n",
        "```\n",
        "What is Ridge Regression?\n",
        "```\n",
        "\n"
      ],
      "metadata": {
        "id": "F9wpyjNSlA5I"
      }
    },
    {
      "cell_type": "markdown",
      "source": [
        "La Regresión Ridge es una variación de la regresión lineal que se utiliza para evitar el sobreajuste. También se conoce como \"regularización L2\".\n",
        "\n",
        "En la regresión lineal, el objetivo es encontrar la línea (o hiperplano) que mejor se ajuste y que minimice la suma de los residuos cuadrados. Sin embargo, cuando hay muchas variables independientes, es posible que el modelo se ajuste muy bien a los datos de entrenamiento, pero no se generalice bien a nuevos datos. Esto se conoce como sobreajuste.\n",
        "\n",
        "La regresión Ridge aborda este problema agregando un término de penalización a la función objetivo de la regresión lineal. **El término de penalización es la suma de los cuadrados de los coeficientes, multiplicada por un parámetro de regularización lambda (λ)**. Esto hace que los coeficientes se reduzcan hacia cero, lo que ayuda a reducir el sobreajuste.\n",
        "\n",
        "Matemáticamente, la regresión ridge se puede representar mediante:\n",
        "minimizar (1/n) * Suma(y_i - (b0 + b1x1i + b2x2i + ... + bpxpi)^2) + λ(b1^2 + b2^2 + ... + pb^2)\n",
        "\n",
        "Aquí, x1i, x2i, ..., xpi son las variables independientes, yi es la variable dependiente, b0, b1, b2, ..., bp son los coeficientes y λ es el parámetro de regularización.\n",
        "\n",
        "El valor de lambda es un hiperparámetro que debe elegir el usuario. **Un valor lambda más alto dará como resultado coeficientes más pequeños, y un valor lambda más bajo dará como resultado coeficientes más grandes**. Es importante tener en cuenta que el valor lambda debe elegirse con cuidado y con validación cruzada para evitar un ajuste insuficiente o excesivo."
      ],
      "metadata": {
        "id": "TAclW-L3dpE4"
      }
    },
    {
      "cell_type": "markdown",
      "source": [
        "### **Bibtex y referencias**\n",
        "\n",
        "\n"
      ],
      "metadata": {
        "id": "56n_AM8KivZ6"
      }
    },
    {
      "cell_type": "markdown",
      "source": [
        "\n",
        "\n",
        "```\n",
        "Who wrote the first paper related to Ridge Regression?\n",
        "```\n",
        "\n"
      ],
      "metadata": {
        "id": "2nO-RXbHlHHw"
      }
    },
    {
      "cell_type": "markdown",
      "source": [
        "El método de Ridge Regression fue introducido por primera vez por **Hoerl y Kennard** en su artículo de **1970**, **\"Ridge Regression: Biased Estimation for Nonorthogonal Problems\"**. El artículo fue publicado en la revista Technometrics. En este artículo, Hoerl y Kennard propusieron Ridge Regression como un método para abordar el problema de la multicolinealidad en la regresión lineal múltiple. Demostraron que Ridge Regression puede proporcionar estimaciones imparciales de los coeficientes de regresión incluso cuando los predictores están altamente correlacionados. También proporcionaron una solución de forma cerrada para las estimaciones de Ridge Regression y demostraron la eficacia del método a través de simulaciones y ejemplos de datos del mundo real. El artículo se considera uno de los primeros artículos sobre la regresión de Ridge y ha sido citado más de 4000 veces.\n",
        "\n",
        "\n",
        "\n",
        "```\n",
        "@article{hoerl2000ridge,\n",
        "  title={Ridge regression: Biased estimation for nonorthogonal problems},\n",
        "  author={Hoerl, Arthur E and Kennard, Robert W},\n",
        "  journal={Technometrics},\n",
        "  volume={42},\n",
        "  number={1},\n",
        "  pages={80--86},\n",
        "  year={2000},\n",
        "  publisher={Taylor \\& Francis}\n",
        "}\n",
        "```"
      ],
      "metadata": {
        "id": "W4Wwvcr_NQwq"
      }
    },
    {
      "cell_type": "markdown",
      "source": [
        "### **Limitaciones, supuestos y restricciones**"
      ],
      "metadata": {
        "id": "k474MZj8m9pc"
      }
    },
    {
      "cell_type": "markdown",
      "source": [
        "\n",
        "```\n",
        "What are the limitations and restrictions of Ridge Regression?\n",
        "```\n"
      ],
      "metadata": {
        "id": "YWH8QcKgmlNQ"
      }
    },
    {
      "cell_type": "markdown",
      "source": [
        "Hay algunas limitaciones y restricciones de Ridge Regression a tener en cuenta:\n",
        "\n",
        "* Ridge Regression puede ser sensible a la elección del parámetro de regularización. La solución de Ridge puede cambiar drásticamente a medida que varía el parámetro de regularización, lo que dificulta la elección de un valor óptimo.\n",
        "\n",
        "* La regresión de Ridge tiende a reducir las estimaciones de los coeficientes de todas las variables hacia cero, lo que puede dificultar la interpretación de la importancia de los predictores individuales.\n",
        "\n",
        "* Ridge Regression no realiza la selección de variables, lo que significa que no elimina automáticamente los predictores sin importancia del modelo.\n",
        "\n",
        "* Ridge Regression asume que los predictores son independientes y están distribuidos de manera idéntica, lo que puede no ser el caso en algunos problemas del mundo real.\n",
        "\n",
        "* Ridge Regression no tiene en cuenta la incertidumbre de las estimaciones de los coeficientes.\n",
        "\n",
        "* Ridge Regression no funciona bien con variables categóricas y requiere que se transforme en dummies.\n",
        "\n",
        "* Ridge Regression no funciona bien con datos dispersos.\n",
        "\n",
        "* Ridge Regression puede ser sensible a la escala de los predictores, que se puede mejorar mediante la normalización de los datos.\n",
        "\n",
        "Es importante tener en cuenta que Ridge Regression no siempre es la mejor técnica de regularización para un problema determinado, y es importante probar diferentes métodos de regularización y evaluar su rendimiento para encontrar el mejor para el problema."
      ],
      "metadata": {
        "id": "eW9vHw-smtsp"
      }
    },
    {
      "cell_type": "markdown",
      "source": [
        "## **Código Ridge**"
      ],
      "metadata": {
        "id": "qVECx2unfmcK"
      }
    },
    {
      "cell_type": "markdown",
      "source": [
        "*Hiperparámetros*"
      ],
      "metadata": {
        "id": "yaoGz0rdpeyX"
      }
    },
    {
      "cell_type": "markdown",
      "source": [
        "Hiperparámetros que se pueden ajustar:\n",
        "*texto en cursiva*\n",
        "**alpha**: Un valor más alto de alpha resulta en una mayor restricción en los coeficientes del modelo, lo que reduce la complejidad del modelo y su capacidad de ajustar los datos.\n",
        "\n",
        "fit_intercept: Este hiperparámetro indica si el modelo debe incluir un término independiente.\n"
      ],
      "metadata": {
        "id": "8XYOMJeroaDu"
      }
    },
    {
      "cell_type": "code",
      "source": [
        "#ridge = Ridge().fit(X_train, y_train)\n",
        "#print(\"Training set score: {:.2f}\".format(ridge.score(X_train, y_train)))\n",
        "#print(\"Test set score: {:.2f}\".format(ridge.score(X_test, y_test)))"
      ],
      "metadata": {
        "id": "klbH3ucYfkoT"
      },
      "execution_count": null,
      "outputs": []
    },
    {
      "cell_type": "code",
      "source": [
        "#ridge10 = Ridge(alpha=10).fit(X_train, y_train)\n",
        "#print(\"Training set score: {:.2f}\".format(ridge10.score(X_train, y_train)))\n",
        "#print(\"Test set score: {:.2f}\".format(ridge10.score(X_test, y_test)))"
      ],
      "metadata": {
        "id": "mSBlFNOufkwQ"
      },
      "execution_count": null,
      "outputs": []
    },
    {
      "cell_type": "code",
      "source": [
        "#ridge01 = Ridge(alpha=0.1).fit(X_train, y_train)\n",
        "#print(\"Training set score: {:.2f}\".format(ridge01.score(X_train, y_train)))\n",
        "#print(\"Test set score: {:.2f}\".format(ridge01.score(X_test, y_test)))"
      ],
      "metadata": {
        "id": "nvt3PD_bfqh3"
      },
      "execution_count": null,
      "outputs": []
    },
    {
      "cell_type": "markdown",
      "source": [
        "** SE DEBE CORRER PRIMERO EL CODIGO QUE SE ENCUENTRA EN ELASTIC NET"
      ],
      "metadata": {
        "id": "ZjK5wfXD4TsQ"
      }
    },
    {
      "cell_type": "markdown",
      "source": [
        "# **9. Elastic NET**"
      ],
      "metadata": {
        "id": "eunG1fAecBGo"
      }
    },
    {
      "cell_type": "markdown",
      "source": [
        "### **Definición**\n"
      ],
      "metadata": {
        "id": "Insnwhvtd-fZ"
      }
    },
    {
      "cell_type": "markdown",
      "source": [
        "\n",
        "\n",
        "```\n",
        "What is Elastic NET?\n",
        "```\n",
        "\n"
      ],
      "metadata": {
        "id": "J28VaZsGlQgo"
      }
    },
    {
      "cell_type": "markdown",
      "source": [
        "Elastic Net es una combinación de los métodos de regularización Ridge y Lasso. Es un método de regresión lineal que intenta equilibrar la compensación entre Ridge y Lasso agregando los términos de regularización L1 y L2 a la función objetivo.\n",
        "\n",
        "Se define como:\n",
        "minimizar (1/n) * Suma(y_i - (b0 + b1x1i + b2x2i + ... + bpxpi)^2) + λ1(|b1| + |b2| + ... + |bp|) + λ2*( b1^2 + b2^2 + ... + pb^2)\n",
        "\n",
        "Aquí, x1i, x2i, ..., xpi son las variables independientes, yi es la variable dependiente, b0, b1, b2, ..., bp son los coeficientes, λ1 es el parámetro de regularización L1 y λ2 es la regularización L2 parámetro.\n",
        "\n",
        "Permite seleccionar las mejores características y también reducir los valores de los coeficientes para evitar el sobreajuste. **El método de red elástica es útil cuando el número de predictores es mayor que el número de observaciones o cuando los predictores están correlacionados.**\n",
        "\n",
        "El método Elastic Net utiliza dos parámetros, α y λ, que controlan el equilibrio entre la regularización de Ridge y Lasso. **Un α de 0 es equivalente a la regresión de Ridge, mientras que un α de 1 es equivalente a la regresión de Lasso.**\n",
        "\n",
        "Es importante tener en cuenta que elegir el valor óptimo de α y λ requiere un ajuste fino y una validación cruzada."
      ],
      "metadata": {
        "id": "iP9mDyiweIDI"
      }
    },
    {
      "cell_type": "markdown",
      "source": [
        "### **Bibtex y referencias**\n"
      ],
      "metadata": {
        "id": "0alNme0BePQX"
      }
    },
    {
      "cell_type": "markdown",
      "source": [
        "\n",
        "\n",
        "```\n",
        "Who wrote the first paper related to Elastic NET?\n",
        "```\n",
        "\n"
      ],
      "metadata": {
        "id": "95LHEm-KlWAR"
      }
    },
    {
      "cell_type": "markdown",
      "source": [
        "El método Elastic Net fue presentado por primera vez por **Hui Zou y Trevor Hastie** en su artículo de **2005** **\"Regularización y selección de variables a través de Elastic Net\"**. El artículo se publicó en el Journal of the Royal Statistical Society, Serie B. En este artículo, los autores propusieron Elastic Net como un método para la regresión lineal que combina la regularización L1 de Lasso y la regularización L2 de Ridge Regression. Demostraron que Elastic Net puede proporcionar un buen equilibrio entre la regularización de L1 y L2 y puede manejar el caso cuando los predictores están correlacionados. También proporcionaron una solución de forma cerrada para las estimaciones de Elastic Net y demostraron la eficacia del método a través de simulaciones y ejemplos de datos del mundo real.\n",
        "\n",
        "Este documento se considera el primero sobre Elastic Net y ha sido citado más de 4000 veces.\n",
        "\n",
        "\n",
        "\n",
        "```\n",
        "@article{zou2005regularization,\n",
        "  title={Regularization and variable selection via the elastic net},\n",
        "  author={Zou, Hui and Hastie, Trevor},\n",
        "  journal={Journal of the royal statistical society: series B (statistical methodology)},\n",
        "  volume={67},\n",
        "  number={2},\n",
        "  pages={301--320},\n",
        "  year={2005},\n",
        "  publisher={Wiley Online Library}\n",
        "}\n",
        "```"
      ],
      "metadata": {
        "id": "R10lre0BNneB"
      }
    },
    {
      "cell_type": "markdown",
      "source": [
        "### **Limitaciones, supuestos y restricciones**"
      ],
      "metadata": {
        "id": "_XhF4apzm_iK"
      }
    },
    {
      "cell_type": "markdown",
      "source": [
        "\n",
        "\n",
        "```\n",
        "What are the limitations and restrictions of Elactic NET?\n",
        "```\n",
        "\n"
      ],
      "metadata": {
        "id": "Egl5BpUgmvCJ"
      }
    },
    {
      "cell_type": "markdown",
      "source": [
        "Hay algunas limitaciones y restricciones de Elastic Net a tener en cuenta:\n",
        "\n",
        "* Elastic Net puede ser sensible a la elección del parámetro de regularización. La solución de Elastic Net puede cambiar drásticamente a medida que varía el parámetro de regularización, lo que dificulta la elección de un valor óptimo.\n",
        "\n",
        "* Elastic Net asume que los predictores son independientes y están distribuidos de manera idéntica, lo que puede no ser el caso en algunos problemas del mundo real.\n",
        "\n",
        "* Elastic Net no tiene en cuenta la incertidumbre de las estimaciones de los coeficientes.\n",
        "\n",
        "* Elastic Net no funciona bien con variables categóricas y requiere ser transformado en dummies.\n",
        "\n",
        "* Elastic Net no funciona bien con datos dispersos.\n",
        "\n",
        "* Elastic Net puede ser sensible a la escala de los predictores, lo que se puede mejorar al normalizar los datos.\n",
        "\n",
        "* Elastic Net no garantiza una solución única cuando los predictores están altamente correlacionados.\n",
        "\n",
        "* Elastic Net no garantiza que funcionará mejor que Lasso o Ridge Regression. Depende del problema y de los datos.\n",
        "\n",
        "Es importante tener en cuenta que Elastic Net no siempre es la mejor técnica de regularización para un problema determinado, y es importante probar diferentes métodos de regularización y evaluar su rendimiento para encontrar el mejor para el problema."
      ],
      "metadata": {
        "id": "NBgBY4fEm5ks"
      }
    },
    {
      "cell_type": "markdown",
      "source": [
        "## **CODIGO**"
      ],
      "metadata": {
        "id": "gHUkiGlocExg"
      }
    },
    {
      "cell_type": "code",
      "source": [
        "import pandas as pd\n",
        "import numpy as np\n",
        "\n",
        "from sklearn.linear_model import LinearRegression\n",
        "from sklearn import metrics\n",
        "from sklearn.metrics import r2_score\n",
        "from sklearn.linear_model import Ridge\n",
        "from sklearn.linear_model import Lasso\n",
        "from sklearn.linear_model import ElasticNet\n",
        "from sklearn.preprocessing import PolynomialFeatures"
      ],
      "metadata": {
        "id": "ZWSsgGeBe7-O"
      },
      "execution_count": null,
      "outputs": []
    },
    {
      "cell_type": "code",
      "source": [
        "data = pd.read_csv('Advertising.csv', index_col=0)\n",
        "data.head()"
      ],
      "metadata": {
        "id": "g_kEu8_We-Ry",
        "colab": {
          "base_uri": "https://localhost:8080/",
          "height": 206
        },
        "outputId": "87faf630-7179-4e34-db53-66ca85d3b58b"
      },
      "execution_count": null,
      "outputs": [
        {
          "output_type": "execute_result",
          "data": {
            "text/plain": [
              "      TV  radio  newspaper  sales\n",
              "1  230.1   37.8       69.2   22.1\n",
              "2   44.5   39.3       45.1   10.4\n",
              "3   17.2   45.9       69.3    9.3\n",
              "4  151.5   41.3       58.5   18.5\n",
              "5  180.8   10.8       58.4   12.9"
            ],
            "text/html": [
              "\n",
              "  <div id=\"df-197a5155-f6ed-4d5f-ba36-eea249ccbd37\">\n",
              "    <div class=\"colab-df-container\">\n",
              "      <div>\n",
              "<style scoped>\n",
              "    .dataframe tbody tr th:only-of-type {\n",
              "        vertical-align: middle;\n",
              "    }\n",
              "\n",
              "    .dataframe tbody tr th {\n",
              "        vertical-align: top;\n",
              "    }\n",
              "\n",
              "    .dataframe thead th {\n",
              "        text-align: right;\n",
              "    }\n",
              "</style>\n",
              "<table border=\"1\" class=\"dataframe\">\n",
              "  <thead>\n",
              "    <tr style=\"text-align: right;\">\n",
              "      <th></th>\n",
              "      <th>TV</th>\n",
              "      <th>radio</th>\n",
              "      <th>newspaper</th>\n",
              "      <th>sales</th>\n",
              "    </tr>\n",
              "  </thead>\n",
              "  <tbody>\n",
              "    <tr>\n",
              "      <th>1</th>\n",
              "      <td>230.1</td>\n",
              "      <td>37.8</td>\n",
              "      <td>69.2</td>\n",
              "      <td>22.1</td>\n",
              "    </tr>\n",
              "    <tr>\n",
              "      <th>2</th>\n",
              "      <td>44.5</td>\n",
              "      <td>39.3</td>\n",
              "      <td>45.1</td>\n",
              "      <td>10.4</td>\n",
              "    </tr>\n",
              "    <tr>\n",
              "      <th>3</th>\n",
              "      <td>17.2</td>\n",
              "      <td>45.9</td>\n",
              "      <td>69.3</td>\n",
              "      <td>9.3</td>\n",
              "    </tr>\n",
              "    <tr>\n",
              "      <th>4</th>\n",
              "      <td>151.5</td>\n",
              "      <td>41.3</td>\n",
              "      <td>58.5</td>\n",
              "      <td>18.5</td>\n",
              "    </tr>\n",
              "    <tr>\n",
              "      <th>5</th>\n",
              "      <td>180.8</td>\n",
              "      <td>10.8</td>\n",
              "      <td>58.4</td>\n",
              "      <td>12.9</td>\n",
              "    </tr>\n",
              "  </tbody>\n",
              "</table>\n",
              "</div>\n",
              "      <button class=\"colab-df-convert\" onclick=\"convertToInteractive('df-197a5155-f6ed-4d5f-ba36-eea249ccbd37')\"\n",
              "              title=\"Convert this dataframe to an interactive table.\"\n",
              "              style=\"display:none;\">\n",
              "        \n",
              "  <svg xmlns=\"http://www.w3.org/2000/svg\" height=\"24px\"viewBox=\"0 0 24 24\"\n",
              "       width=\"24px\">\n",
              "    <path d=\"M0 0h24v24H0V0z\" fill=\"none\"/>\n",
              "    <path d=\"M18.56 5.44l.94 2.06.94-2.06 2.06-.94-2.06-.94-.94-2.06-.94 2.06-2.06.94zm-11 1L8.5 8.5l.94-2.06 2.06-.94-2.06-.94L8.5 2.5l-.94 2.06-2.06.94zm10 10l.94 2.06.94-2.06 2.06-.94-2.06-.94-.94-2.06-.94 2.06-2.06.94z\"/><path d=\"M17.41 7.96l-1.37-1.37c-.4-.4-.92-.59-1.43-.59-.52 0-1.04.2-1.43.59L10.3 9.45l-7.72 7.72c-.78.78-.78 2.05 0 2.83L4 21.41c.39.39.9.59 1.41.59.51 0 1.02-.2 1.41-.59l7.78-7.78 2.81-2.81c.8-.78.8-2.07 0-2.86zM5.41 20L4 18.59l7.72-7.72 1.47 1.35L5.41 20z\"/>\n",
              "  </svg>\n",
              "      </button>\n",
              "      \n",
              "  <style>\n",
              "    .colab-df-container {\n",
              "      display:flex;\n",
              "      flex-wrap:wrap;\n",
              "      gap: 12px;\n",
              "    }\n",
              "\n",
              "    .colab-df-convert {\n",
              "      background-color: #E8F0FE;\n",
              "      border: none;\n",
              "      border-radius: 50%;\n",
              "      cursor: pointer;\n",
              "      display: none;\n",
              "      fill: #1967D2;\n",
              "      height: 32px;\n",
              "      padding: 0 0 0 0;\n",
              "      width: 32px;\n",
              "    }\n",
              "\n",
              "    .colab-df-convert:hover {\n",
              "      background-color: #E2EBFA;\n",
              "      box-shadow: 0px 1px 2px rgba(60, 64, 67, 0.3), 0px 1px 3px 1px rgba(60, 64, 67, 0.15);\n",
              "      fill: #174EA6;\n",
              "    }\n",
              "\n",
              "    [theme=dark] .colab-df-convert {\n",
              "      background-color: #3B4455;\n",
              "      fill: #D2E3FC;\n",
              "    }\n",
              "\n",
              "    [theme=dark] .colab-df-convert:hover {\n",
              "      background-color: #434B5C;\n",
              "      box-shadow: 0px 1px 3px 1px rgba(0, 0, 0, 0.15);\n",
              "      filter: drop-shadow(0px 1px 2px rgba(0, 0, 0, 0.3));\n",
              "      fill: #FFFFFF;\n",
              "    }\n",
              "  </style>\n",
              "\n",
              "      <script>\n",
              "        const buttonEl =\n",
              "          document.querySelector('#df-197a5155-f6ed-4d5f-ba36-eea249ccbd37 button.colab-df-convert');\n",
              "        buttonEl.style.display =\n",
              "          google.colab.kernel.accessAllowed ? 'block' : 'none';\n",
              "\n",
              "        async function convertToInteractive(key) {\n",
              "          const element = document.querySelector('#df-197a5155-f6ed-4d5f-ba36-eea249ccbd37');\n",
              "          const dataTable =\n",
              "            await google.colab.kernel.invokeFunction('convertToInteractive',\n",
              "                                                     [key], {});\n",
              "          if (!dataTable) return;\n",
              "\n",
              "          const docLinkHtml = 'Like what you see? Visit the ' +\n",
              "            '<a target=\"_blank\" href=https://colab.research.google.com/notebooks/data_table.ipynb>data table notebook</a>'\n",
              "            + ' to learn more about interactive tables.';\n",
              "          element.innerHTML = '';\n",
              "          dataTable['output_type'] = 'display_data';\n",
              "          await google.colab.output.renderOutput(dataTable, element);\n",
              "          const docLink = document.createElement('div');\n",
              "          docLink.innerHTML = docLinkHtml;\n",
              "          element.appendChild(docLink);\n",
              "        }\n",
              "      </script>\n",
              "    </div>\n",
              "  </div>\n",
              "  "
            ]
          },
          "metadata": {},
          "execution_count": 19
        }
      ]
    },
    {
      "cell_type": "code",
      "source": [
        "import seaborn as sns\n",
        "%matplotlib inline"
      ],
      "metadata": {
        "id": "ESSOJUoDfAGq"
      },
      "execution_count": null,
      "outputs": []
    },
    {
      "cell_type": "code",
      "source": [
        "sns.pairplot(data, x_vars=['TV', 'radio', 'newspaper'], y_vars='sales', size=7, aspect=0.7, kind='reg')"
      ],
      "metadata": {
        "id": "EFMHBOdlfGBC",
        "colab": {
          "base_uri": "https://localhost:8080/",
          "height": 602
        },
        "outputId": "a050b7d7-b465-4899-98cb-1eafb31cec40"
      },
      "execution_count": null,
      "outputs": [
        {
          "output_type": "stream",
          "name": "stderr",
          "text": [
            "/usr/local/lib/python3.8/dist-packages/seaborn/axisgrid.py:2076: UserWarning:\n",
            "\n",
            "The `size` parameter has been renamed to `height`; please update your code.\n",
            "\n"
          ]
        },
        {
          "output_type": "execute_result",
          "data": {
            "text/plain": [
              "<seaborn.axisgrid.PairGrid at 0x7f4f87ed40d0>"
            ]
          },
          "metadata": {},
          "execution_count": 21
        },
        {
          "output_type": "display_data",
          "data": {
            "text/plain": [
              "<Figure size 1058.4x504 with 3 Axes>"
            ],
            "image/png": "[encoded data removed]"
          },
          "metadata": {
            "needs_background": "light"
          }
        }
      ]
    },
    {
      "cell_type": "code",
      "source": [
        "# Creando cabeceras\n",
        "feature_cols = ['TV', 'radio', 'newspaper']\n",
        "X = data[feature_cols]\n",
        "X = data[['TV', 'radio', 'newspaper']]\n",
        "X.head()"
      ],
      "metadata": {
        "id": "gBws5hDLfMlz",
        "colab": {
          "base_uri": "https://localhost:8080/",
          "height": 206
        },
        "outputId": "458b9a92-53a1-46bc-ac03-9bf7cc4b0985"
      },
      "execution_count": null,
      "outputs": [
        {
          "output_type": "execute_result",
          "data": {
            "text/plain": [
              "      TV  radio  newspaper\n",
              "1  230.1   37.8       69.2\n",
              "2   44.5   39.3       45.1\n",
              "3   17.2   45.9       69.3\n",
              "4  151.5   41.3       58.5\n",
              "5  180.8   10.8       58.4"
            ],
            "text/html": [
              "\n",
              "  <div id=\"df-9d178df9-87eb-453e-9168-cff8d17c930b\">\n",
              "    <div class=\"colab-df-container\">\n",
              "      <div>\n",
              "<style scoped>\n",
              "    .dataframe tbody tr th:only-of-type {\n",
              "        vertical-align: middle;\n",
              "    }\n",
              "\n",
              "    .dataframe tbody tr th {\n",
              "        vertical-align: top;\n",
              "    }\n",
              "\n",
              "    .dataframe thead th {\n",
              "        text-align: right;\n",
              "    }\n",
              "</style>\n",
              "<table border=\"1\" class=\"dataframe\">\n",
              "  <thead>\n",
              "    <tr style=\"text-align: right;\">\n",
              "      <th></th>\n",
              "      <th>TV</th>\n",
              "      <th>radio</th>\n",
              "      <th>newspaper</th>\n",
              "    </tr>\n",
              "  </thead>\n",
              "  <tbody>\n",
              "    <tr>\n",
              "      <th>1</th>\n",
              "      <td>230.1</td>\n",
              "      <td>37.8</td>\n",
              "      <td>69.2</td>\n",
              "    </tr>\n",
              "    <tr>\n",
              "      <th>2</th>\n",
              "      <td>44.5</td>\n",
              "      <td>39.3</td>\n",
              "      <td>45.1</td>\n",
              "    </tr>\n",
              "    <tr>\n",
              "      <th>3</th>\n",
              "      <td>17.2</td>\n",
              "      <td>45.9</td>\n",
              "      <td>69.3</td>\n",
              "    </tr>\n",
              "    <tr>\n",
              "      <th>4</th>\n",
              "      <td>151.5</td>\n",
              "      <td>41.3</td>\n",
              "      <td>58.5</td>\n",
              "    </tr>\n",
              "    <tr>\n",
              "      <th>5</th>\n",
              "      <td>180.8</td>\n",
              "      <td>10.8</td>\n",
              "      <td>58.4</td>\n",
              "    </tr>\n",
              "  </tbody>\n",
              "</table>\n",
              "</div>\n",
              "      <button class=\"colab-df-convert\" onclick=\"convertToInteractive('df-9d178df9-87eb-453e-9168-cff8d17c930b')\"\n",
              "              title=\"Convert this dataframe to an interactive table.\"\n",
              "              style=\"display:none;\">\n",
              "        \n",
              "  <svg xmlns=\"http://www.w3.org/2000/svg\" height=\"24px\"viewBox=\"0 0 24 24\"\n",
              "       width=\"24px\">\n",
              "    <path d=\"M0 0h24v24H0V0z\" fill=\"none\"/>\n",
              "    <path d=\"M18.56 5.44l.94 2.06.94-2.06 2.06-.94-2.06-.94-.94-2.06-.94 2.06-2.06.94zm-11 1L8.5 8.5l.94-2.06 2.06-.94-2.06-.94L8.5 2.5l-.94 2.06-2.06.94zm10 10l.94 2.06.94-2.06 2.06-.94-2.06-.94-.94-2.06-.94 2.06-2.06.94z\"/><path d=\"M17.41 7.96l-1.37-1.37c-.4-.4-.92-.59-1.43-.59-.52 0-1.04.2-1.43.59L10.3 9.45l-7.72 7.72c-.78.78-.78 2.05 0 2.83L4 21.41c.39.39.9.59 1.41.59.51 0 1.02-.2 1.41-.59l7.78-7.78 2.81-2.81c.8-.78.8-2.07 0-2.86zM5.41 20L4 18.59l7.72-7.72 1.47 1.35L5.41 20z\"/>\n",
              "  </svg>\n",
              "      </button>\n",
              "      \n",
              "  <style>\n",
              "    .colab-df-container {\n",
              "      display:flex;\n",
              "      flex-wrap:wrap;\n",
              "      gap: 12px;\n",
              "    }\n",
              "\n",
              "    .colab-df-convert {\n",
              "      background-color: #E8F0FE;\n",
              "      border: none;\n",
              "      border-radius: 50%;\n",
              "      cursor: pointer;\n",
              "      display: none;\n",
              "      fill: #1967D2;\n",
              "      height: 32px;\n",
              "      padding: 0 0 0 0;\n",
              "      width: 32px;\n",
              "    }\n",
              "\n",
              "    .colab-df-convert:hover {\n",
              "      background-color: #E2EBFA;\n",
              "      box-shadow: 0px 1px 2px rgba(60, 64, 67, 0.3), 0px 1px 3px 1px rgba(60, 64, 67, 0.15);\n",
              "      fill: #174EA6;\n",
              "    }\n",
              "\n",
              "    [theme=dark] .colab-df-convert {\n",
              "      background-color: #3B4455;\n",
              "      fill: #D2E3FC;\n",
              "    }\n",
              "\n",
              "    [theme=dark] .colab-df-convert:hover {\n",
              "      background-color: #434B5C;\n",
              "      box-shadow: 0px 1px 3px 1px rgba(0, 0, 0, 0.15);\n",
              "      filter: drop-shadow(0px 1px 2px rgba(0, 0, 0, 0.3));\n",
              "      fill: #FFFFFF;\n",
              "    }\n",
              "  </style>\n",
              "\n",
              "      <script>\n",
              "        const buttonEl =\n",
              "          document.querySelector('#df-9d178df9-87eb-453e-9168-cff8d17c930b button.colab-df-convert');\n",
              "        buttonEl.style.display =\n",
              "          google.colab.kernel.accessAllowed ? 'block' : 'none';\n",
              "\n",
              "        async function convertToInteractive(key) {\n",
              "          const element = document.querySelector('#df-9d178df9-87eb-453e-9168-cff8d17c930b');\n",
              "          const dataTable =\n",
              "            await google.colab.kernel.invokeFunction('convertToInteractive',\n",
              "                                                     [key], {});\n",
              "          if (!dataTable) return;\n",
              "\n",
              "          const docLinkHtml = 'Like what you see? Visit the ' +\n",
              "            '<a target=\"_blank\" href=https://colab.research.google.com/notebooks/data_table.ipynb>data table notebook</a>'\n",
              "            + ' to learn more about interactive tables.';\n",
              "          element.innerHTML = '';\n",
              "          dataTable['output_type'] = 'display_data';\n",
              "          await google.colab.output.renderOutput(dataTable, element);\n",
              "          const docLink = document.createElement('div');\n",
              "          docLink.innerHTML = docLinkHtml;\n",
              "          element.appendChild(docLink);\n",
              "        }\n",
              "      </script>\n",
              "    </div>\n",
              "  </div>\n",
              "  "
            ]
          },
          "metadata": {},
          "execution_count": 22
        }
      ]
    },
    {
      "cell_type": "code",
      "source": [
        "# Revisado Dimenciones\n",
        "print(type(X))\n",
        "print(X.shape)"
      ],
      "metadata": {
        "id": "GAycxgpLfPVA",
        "colab": {
          "base_uri": "https://localhost:8080/"
        },
        "outputId": "d31fcf0d-617c-4f24-d004-404de5d433a1"
      },
      "execution_count": null,
      "outputs": [
        {
          "output_type": "stream",
          "name": "stdout",
          "text": [
            "<class 'pandas.core.frame.DataFrame'>\n",
            "(200, 3)\n"
          ]
        }
      ]
    },
    {
      "cell_type": "code",
      "source": [
        "# Asignando variable\n",
        "y = data['sales']\n",
        "y = data.sales\n",
        "y.head()"
      ],
      "metadata": {
        "id": "fmttbl4QfRMa",
        "colab": {
          "base_uri": "https://localhost:8080/"
        },
        "outputId": "4653c4b9-e309-43ce-8c2b-e9c4aa98a241"
      },
      "execution_count": null,
      "outputs": [
        {
          "output_type": "execute_result",
          "data": {
            "text/plain": [
              "1    22.1\n",
              "2    10.4\n",
              "3     9.3\n",
              "4    18.5\n",
              "5    12.9\n",
              "Name: sales, dtype: float64"
            ]
          },
          "metadata": {},
          "execution_count": 24
        }
      ]
    },
    {
      "cell_type": "code",
      "source": [
        "# Revisado tipo de dato y dimension\n",
        "print(type(y))\n",
        "print(y.shape)"
      ],
      "metadata": {
        "id": "klU4AYSbfTC0",
        "colab": {
          "base_uri": "https://localhost:8080/"
        },
        "outputId": "49a95377-cd73-48f7-a2f3-926a5d5b705b"
      },
      "execution_count": null,
      "outputs": [
        {
          "output_type": "stream",
          "name": "stdout",
          "text": [
            "<class 'pandas.core.series.Series'>\n",
            "(200,)\n"
          ]
        }
      ]
    },
    {
      "cell_type": "code",
      "source": [
        "# Importando\n",
        "from sklearn.model_selection import train_test_split\n",
        "X_train, X_test, y_train, y_test = train_test_split(X, y, random_state=1)"
      ],
      "metadata": {
        "id": "dGFhS9QkfU9h"
      },
      "execution_count": null,
      "outputs": []
    },
    {
      "cell_type": "code",
      "source": [
        "print(X_train.shape)\n",
        "print(X_test.shape)\n",
        "print(y_train.shape)\n",
        "print(y_test.shape)"
      ],
      "metadata": {
        "id": "tH30yRfOfWPa",
        "colab": {
          "base_uri": "https://localhost:8080/"
        },
        "outputId": "189026d9-3dc9-47a4-c454-434ff1b5b60a"
      },
      "execution_count": null,
      "outputs": [
        {
          "output_type": "stream",
          "name": "stdout",
          "text": [
            "(150, 3)\n",
            "(50, 3)\n",
            "(150,)\n",
            "(50,)\n"
          ]
        }
      ]
    },
    {
      "cell_type": "code",
      "source": [
        "# Importando modelo\n",
        "from sklearn.linear_model import LinearRegression\n",
        "linreg = LinearRegression()\n",
        "linreg.fit(X_train, y_train)"
      ],
      "metadata": {
        "id": "jTwwyEtCfXxD",
        "colab": {
          "base_uri": "https://localhost:8080/"
        },
        "outputId": "fe594af4-1d53-45e6-d78b-f43ce991ecb7"
      },
      "execution_count": null,
      "outputs": [
        {
          "output_type": "execute_result",
          "data": {
            "text/plain": [
              "LinearRegression()"
            ]
          },
          "metadata": {},
          "execution_count": 28
        }
      ]
    },
    {
      "cell_type": "code",
      "source": [
        "# Imprimir intercepcion y coeficientes\n",
        "print(linreg.intercept_)\n",
        "print(linreg.coef_)"
      ],
      "metadata": {
        "id": "HuwSS3VVfZvn",
        "colab": {
          "base_uri": "https://localhost:8080/"
        },
        "outputId": "39aac3f9-8771-472d-b523-3f1930eaf078"
      },
      "execution_count": null,
      "outputs": [
        {
          "output_type": "stream",
          "name": "stdout",
          "text": [
            "2.87696662231793\n",
            "[0.04656457 0.17915812 0.00345046]\n"
          ]
        }
      ]
    },
    {
      "cell_type": "code",
      "source": [
        "zip(feature_cols, linreg.coef_)"
      ],
      "metadata": {
        "id": "eXHqHm9sfbz7",
        "colab": {
          "base_uri": "https://localhost:8080/"
        },
        "outputId": "eaaabc1c-8852-4e56-8ff3-6af3d0ca5a63"
      },
      "execution_count": null,
      "outputs": [
        {
          "output_type": "execute_result",
          "data": {
            "text/plain": [
              "<zip at 0x7f4f87f2e180>"
            ]
          },
          "metadata": {},
          "execution_count": 30
        }
      ]
    },
    {
      "cell_type": "code",
      "source": [
        "# Realizando las predicciones\n",
        "y_pred = linreg.predict(X_test)"
      ],
      "metadata": {
        "id": "7_uIVgErfeF4"
      },
      "execution_count": null,
      "outputs": []
    },
    {
      "cell_type": "code",
      "source": [
        "# Calculando el error absoluto medio\n",
        "from sklearn import metrics\n",
        "print(metrics.mean_absolute_error(y_test, y_pred))"
      ],
      "metadata": {
        "id": "OcQc8w0wffe7",
        "colab": {
          "base_uri": "https://localhost:8080/"
        },
        "outputId": "27dcc207-638b-46a8-82b7-f4d7e01b4ef5"
      },
      "execution_count": null,
      "outputs": [
        {
          "output_type": "stream",
          "name": "stdout",
          "text": [
            "1.0668917082595213\n"
          ]
        }
      ]
    },
    {
      "cell_type": "code",
      "source": [
        "# Calculando el error cuadratico medio\n",
        "print(metrics.mean_squared_error(y_test, y_pred))"
      ],
      "metadata": {
        "id": "YSPK0i6qfhgm",
        "colab": {
          "base_uri": "https://localhost:8080/"
        },
        "outputId": "c020d63c-a59f-486a-85eb-0cb904992e7c"
      },
      "execution_count": null,
      "outputs": [
        {
          "output_type": "stream",
          "name": "stdout",
          "text": [
            "1.9730456202283373\n"
          ]
        }
      ]
    },
    {
      "cell_type": "code",
      "source": [
        "r2_score(y_test, y_pred)"
      ],
      "metadata": {
        "id": "b13T2g4hfhqS",
        "colab": {
          "base_uri": "https://localhost:8080/"
        },
        "outputId": "66ae02ea-78e8-4e8c-a464-4a32992de6a3"
      },
      "execution_count": null,
      "outputs": [
        {
          "output_type": "execute_result",
          "data": {
            "text/plain": [
              "0.9156213613792232"
            ]
          },
          "metadata": {},
          "execution_count": 34
        }
      ]
    },
    {
      "cell_type": "code",
      "source": [
        "lasso00001 = Lasso(alpha=0.0001, max_iter=100000).fit(X_train, y_train)\n",
        "print(\"Training set score: {:.2f}\".format(lasso00001.score(X_train, y_train)))\n",
        "print(\"Test set score: {:.2f}\".format(lasso00001.score(X_test, y_test)))\n",
        "print(\"Number of features used:\", np.sum(lasso00001.coef_ != 0))"
      ],
      "metadata": {
        "colab": {
          "base_uri": "https://localhost:8080/"
        },
        "outputId": "324ebd70-af15-4f1b-d9c5-d01e50e6538a",
        "id": "GZvMiE1i5XoV"
      },
      "execution_count": null,
      "outputs": [
        {
          "output_type": "stream",
          "name": "stdout",
          "text": [
            "Training set score: 0.89\n",
            "Test set score: 0.92\n",
            "Number of features used: 3\n"
          ]
        }
      ]
    },
    {
      "cell_type": "code",
      "source": [
        "ridge = Ridge().fit(X_train, y_train)\n",
        "print(\"Training set score: {:.2f}\".format(ridge.score(X_train, y_train)))\n",
        "print(\"Test set score: {:.2f}\".format(ridge.score(X_test, y_test)))"
      ],
      "metadata": {
        "colab": {
          "base_uri": "https://localhost:8080/"
        },
        "id": "4FwoxbIR5ZBw",
        "outputId": "064d912b-7708-424d-c8fe-a40f36db7a32"
      },
      "execution_count": null,
      "outputs": [
        {
          "output_type": "stream",
          "name": "stdout",
          "text": [
            "Training set score: 0.89\n",
            "Test set score: 0.92\n"
          ]
        }
      ]
    },
    {
      "cell_type": "code",
      "source": [
        "ridge10 = Ridge(alpha=10).fit(X_train, y_train)\n",
        "print(\"Training set score: {:.2f}\".format(ridge10.score(X_train, y_train)))\n",
        "print(\"Test set score: {:.2f}\".format(ridge10.score(X_test, y_test)))"
      ],
      "metadata": {
        "colab": {
          "base_uri": "https://localhost:8080/"
        },
        "id": "6Mzx0Z695l-Y",
        "outputId": "aded0c78-6b66-4a6a-dcfb-d4b0cc7380ac"
      },
      "execution_count": null,
      "outputs": [
        {
          "output_type": "stream",
          "name": "stdout",
          "text": [
            "Training set score: 0.89\n",
            "Test set score: 0.92\n"
          ]
        }
      ]
    },
    {
      "cell_type": "code",
      "source": [
        "ridge01 = Ridge(alpha=0.1).fit(X_train, y_train)\n",
        "print(\"Training set score: {:.2f}\".format(ridge01.score(X_train, y_train)))\n",
        "print(\"Test set score: {:.2f}\".format(ridge01.score(X_test, y_test)))"
      ],
      "metadata": {
        "colab": {
          "base_uri": "https://localhost:8080/"
        },
        "id": "T9lYtaBI5ppI",
        "outputId": "78d7c69a-6e0c-4e61-b738-78d39a7f7df1"
      },
      "execution_count": null,
      "outputs": [
        {
          "output_type": "stream",
          "name": "stdout",
          "text": [
            "Training set score: 0.89\n",
            "Test set score: 0.92\n"
          ]
        }
      ]
    },
    {
      "cell_type": "markdown",
      "source": [
        "## **Código Elastic NET**"
      ],
      "metadata": {
        "id": "NbrBn3tqgad9"
      }
    },
    {
      "cell_type": "markdown",
      "source": [
        "*Hiperparámetros*"
      ],
      "metadata": {
        "id": "ovNaj0E0p5Ie"
      }
    },
    {
      "cell_type": "markdown",
      "source": [
        "**alpha**: idem.\n",
        "\n",
        "**l1_ratio**: Este hiperparámetro controla el equilibrio entre la regularización L1 y L2. Un valor de 1 corresponde a la regularización Lasso, mientras que un valor de 0 corresponde a la regularización Ridge. Un valor intermedio indica una combinación de ambas regularizaciones."
      ],
      "metadata": {
        "id": "ajHAh4-fp852"
      }
    },
    {
      "cell_type": "code",
      "source": [
        "elastic = ElasticNet(alpha=0.1, l1_ratio=0.5).fit(X_train, y_train)\n",
        "print(\"Training set score: {:.2f}\".format(lasso00001.score(X_train, y_train)))\n",
        "print(\"Test set score: {:.2f}\".format(lasso00001.score(X_test, y_test)))\n",
        "print(\"Number of features used:\", np.sum(lasso00001.coef_ != 0))"
      ],
      "metadata": {
        "id": "ErRzPmaugZ6F",
        "colab": {
          "base_uri": "https://localhost:8080/"
        },
        "outputId": "f53378c2-ec40-4d2e-a078-3d3c09a440ce"
      },
      "execution_count": null,
      "outputs": [
        {
          "output_type": "stream",
          "name": "stdout",
          "text": [
            "Training set score: 0.89\n",
            "Test set score: 0.92\n",
            "Number of features used: 3\n"
          ]
        }
      ]
    },
    {
      "cell_type": "code",
      "source": [
        "elastic09 = ElasticNet(alpha=0.1, l1_ratio=0.9).fit(X_train, y_train)\n",
        "print(\"Training set score: {:.2f}\".format(lasso00001.score(X_train, y_train)))\n",
        "print(\"Test set score: {:.2f}\".format(lasso00001.score(X_test, y_test)))\n",
        "print(\"Number of features used:\", np.sum(lasso00001.coef_ != 0))"
      ],
      "metadata": {
        "id": "4p49GCqojiPm",
        "colab": {
          "base_uri": "https://localhost:8080/"
        },
        "outputId": "1d4c7cbf-86e3-41f7-a07a-c91716cc1d08"
      },
      "execution_count": null,
      "outputs": [
        {
          "output_type": "stream",
          "name": "stdout",
          "text": [
            "Training set score: 0.89\n",
            "Test set score: 0.92\n",
            "Number of features used: 3\n"
          ]
        }
      ]
    },
    {
      "cell_type": "markdown",
      "source": [
        "# **10. LARS**"
      ],
      "metadata": {
        "id": "6iqcPfJGzGlp"
      }
    },
    {
      "cell_type": "markdown",
      "source": [
        "### **Descripción**"
      ],
      "metadata": {
        "id": "fQU_O_WazGlp"
      }
    },
    {
      "cell_type": "markdown",
      "source": [
        "La regularización LARS (Least Angle Regression) es un método de selección de características y regularización para modelos de regresión lineal. Difiere de otros métodos de regularización como la regresión ridge y lasso en que toma un enfoque más iterativo y eficiente en la selección de características y la determinación de los coeficientes de los modelos. La regularización LARS es útil cuando se trabaja con muchas características y se requiere una selección de características precisa.\n"
      ],
      "metadata": {
        "id": "9UOD_uR2zGlp"
      }
    },
    {
      "cell_type": "markdown",
      "source": [
        "@article{10.1214/009053604000000067,\n",
        "author = {Bradley Efron and Trevor Hastie and Iain Johnstone and Robert Tibshirani},\n",
        "title = {{Least angle regression}},\n",
        "volume = {32},\n",
        "journal = {The Annals of Statistics},\n",
        "number = {2},\n",
        "publisher = {Institute of Mathematical Statistics},\n",
        "pages = {407 -- 499},\n",
        "keywords = {boosting, coefficient paths, Lasso, Linear regression, Variable selection},\n",
        "year = {2004},\n",
        "doi = {10.1214/009053604000000067},\n",
        "URL = {https://doi.org/10.1214/009053604000000067}\n",
        "}Fuente\n"
      ],
      "metadata": {
        "id": "xGdg0BcnzGlp"
      }
    },
    {
      "cell_type": "markdown",
      "source": [
        "### **Tipo de Modelo**"
      ],
      "metadata": {
        "id": "rl2MMIQ6zGlp"
      }
    },
    {
      "cell_type": "markdown",
      "source": [
        "\n",
        "\n",
        "*   Modelo de Regularización\n",
        "*   Aprendizaje Online\n",
        "*   Modelo matemático\n",
        "*   No paramétrico\n",
        "\n",
        "\n"
      ],
      "metadata": {
        "id": "rWQG6AwFzGlq"
      }
    },
    {
      "cell_type": "markdown",
      "source": [
        "### **Algoritmo de Entrenamiento**"
      ],
      "metadata": {
        "id": "q7aG0pMwzGlq"
      }
    },
    {
      "cell_type": "markdown",
      "source": [
        "LARS-Lasso: L1 (Lasso) para reducir la complejidad del modelo y evitar el sobreajuste.\n",
        "\n",
        "LARS-Ridge: L2 (Ridge) para suavizar los coeficientes del modelo y mejorar la estabilidad.\n",
        "\n",
        "LARS-Elastic Net: L1 como la L2 para lograr un equilibrio entre la simplicidad y la estabilidad del modelo.\n",
        "\n",
        "LARS-Bayesiano: Utiliza un enfoque bayesiano para estimar los coeficientes del modelo y mejorar la precisión de las predicciones."
      ],
      "metadata": {
        "id": "e-FXaC86zGlq"
      }
    },
    {
      "cell_type": "markdown",
      "source": [
        "### **Supuestos y Restricciones**"
      ],
      "metadata": {
        "id": "lKJ6Pr1czGlq"
      }
    },
    {
      "cell_type": "markdown",
      "source": [
        "*Linearidad*: Se asume una relación lineal entre las variables independientes y la variable dependiente.\n",
        "\n",
        "*Normalidad*: Los residuos deben seguir una distribución normal.\n",
        "\n",
        "*Homocedasticidad*: La varianza de los residuales sea constante a lo largo de todo el rango de las variables independientes.\n",
        "\n",
        "*Independencia*: Las observaciones sean independientes entre sí.\n",
        "\n",
        "*No multicolinealidad*: Las variables independientes no estén altamente correlacionadas entre sí."
      ],
      "metadata": {
        "id": "40kghdftzGlq"
      }
    },
    {
      "cell_type": "markdown",
      "source": [
        "### **Tests**"
      ],
      "metadata": {
        "id": "PKVRoXlIzGlq"
      }
    },
    {
      "cell_type": "markdown",
      "source": [
        "*Validación cruzada*: Esta prueba divide los datos en varios grupos y entrena el modelo en un grupo y lo evalúa en el otro para medir la precisión de las predicciones.\n",
        "\n",
        "*R-cuadrado*: Mide la cantidad de variabilidad en los datos que se explica por el modelo. Más alto, mejor ajuste del modelo.\n",
        "\n",
        "*Errores cuadráticos medios* (MSE):\n",
        "\n",
        "*Prueba de Brier Score*: Mide la calidad de las predicciones categóricas y es útil en problemas de clasificación."
      ],
      "metadata": {
        "id": "mfYt9cN2zGlq"
      }
    },
    {
      "cell_type": "markdown",
      "source": [
        "### **Código**"
      ],
      "metadata": {
        "id": "Hs-9Kp__zGlq"
      }
    },
    {
      "cell_type": "code",
      "source": [
        "import warnings\n",
        "warnings.simplefilter(action='ignore', category=FutureWarning)\n",
        "from sklearn.linear_model import LassoLars\n",
        "from sklearn import linear_model\n",
        "from sklearn.linear_model import LassoLars\n",
        "from sklearn.metrics import r2_score\n",
        "from sklearn.model_selection import train_test_split\n",
        "from sklearn.metrics import mean_squared_error, mean_absolute_error"
      ],
      "metadata": {
        "id": "auWj4ng45bkS"
      },
      "execution_count": null,
      "outputs": []
    },
    {
      "cell_type": "code",
      "source": [
        "df = pd.read_csv('Real estate.csv')"
      ],
      "metadata": {
        "id": "XObGNPgUBwQX"
      },
      "execution_count": null,
      "outputs": []
    },
    {
      "cell_type": "code",
      "source": [
        "X=df['X3 distance to the nearest MRT station'].values.reshape(-1,1)\n",
        "y=df['Y house price of unit area'].values\n",
        "X_train, X_test, y_train, y_test = train_test_split(X, y,test_size = 0.20, random_state = 0)"
      ],
      "metadata": {
        "id": "n5Hsy70PBwQY"
      },
      "execution_count": null,
      "outputs": []
    },
    {
      "cell_type": "code",
      "source": [
        "regressor = LassoLars(alpha = 0.1)\n",
        "regressor.fit(X_train, y_train)\n",
        "y_pred = regressor.predict(X_test)\n",
        "print(f\"r2 Score of test set : {r2_score(y_test, y_pred)}\")\n",
        "print(f\"MSE : {mean_squared_error(y_test,y_pred)}\")\n"
      ],
      "metadata": {
        "colab": {
          "base_uri": "https://localhost:8080/"
        },
        "id": "9hbmCblw9Zlo",
        "outputId": "1fb7acef-f41f-4281-a5aa-8d57de14042c"
      },
      "execution_count": null,
      "outputs": [
        {
          "output_type": "stream",
          "name": "stdout",
          "text": [
            "r2 Score of test set : 0.4911307001023495\n",
            "MSE : 88.39009509707903\n"
          ]
        }
      ]
    }
  ]
}